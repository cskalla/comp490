{
 "cells": [
  {
   "cell_type": "code",
   "execution_count": 1,
   "metadata": {},
   "outputs": [],
   "source": [
    "import os\n",
    "import json\n",
    "import random\n",
    "import requests\n",
    "import random\n",
    "\n",
    "from ipyleaflet import Map, GeoJSON\n",
    "\n",
    "import ipyleaflet\n",
    "import json\n",
    "import pandas as pd\n",
    "import os\n",
    "import requests\n",
    "from ipywidgets import link, FloatSlider, HTML\n",
    "from branca.colormap import linear\n",
    "from ipyleaflet import Choropleth, Map, Popup, basemaps\n",
    "from ipyleaflet import Map, GeoJSON, GeoData, basemaps, Marker, Heatmap,CircleMarker,LegendControl\n",
    "import geopandas, pandas as pd, numpy as np\n"
   ]
  },
  {
   "cell_type": "code",
   "execution_count": 2,
   "metadata": {},
   "outputs": [],
   "source": [
    "\n",
    "#enter map parameters\n",
    "#center = (29.9511, -90.0615)\n",
    "center = (29.992396263574907, -90.05232619149248)\n",
    "zoom = 11\n",
    "basemap = basemaps.CartoDB.Positron\n",
    "#create map object\n",
    "m10 = Map(center=center, zoom=zoom, basemap=basemap)\n"
   ]
  },
  {
   "cell_type": "code",
   "execution_count": 5,
   "metadata": {},
   "outputs": [
    {
     "data": {
      "application/vnd.jupyter.widget-view+json": {
       "model_id": "a8fe7a3534d6420fb2711c991821d374",
       "version_major": 2,
       "version_minor": 0
      },
      "text/plain": [
       "Map(bottom=216521.0, center=[29.992396263574907, -90.05232619149248], controls=(ZoomControl(options=['position…"
      ]
     },
     "metadata": {},
     "output_type": "display_data"
    }
   ],
   "source": [
    "with open('Subsidized_Housing_-_Six_Metro_Areas_-_2017.csv', 'r') as f:\n",
    "    sub = pd.read_csv(f, header=0)\n",
    "sub = sub[sub['State'] == 'LA']\n",
    "sub\n",
    "sub = sub.dropna(subset=['Latitude'], axis = 0)\n",
    "sub = sub.dropna(subset=['Longitude'], axis = 0)\n",
    "\n",
    "sub = sub[['Longitude', 'Latitude']]\n",
    "sub\n",
    "\n",
    "long = sub['Longitude'].tolist()\n",
    "lat = sub['Latitude'].tolist()\n",
    "\n",
    "data_frame = pd.DataFrame(\n",
    "    {'Longitude': np.array(long),\n",
    "      'Latitude': np.array(lat),\n",
    "    })\n",
    "gdf2 = geopandas.GeoDataFrame(\n",
    "    data_frame, geometry=geopandas.points_from_xy(data_frame.Longitude, data_frame.Latitude))\n",
    "\n",
    "for i in range(len(long)):\n",
    "    marker = CircleMarker(location=(gdf2['Latitude'][i],gdf2['Longitude'][i]), fill_color='orange', color = 'orange', stroke = False,fill_opacity = 1, radius=3)\n",
    "    #print(location)\n",
    "    m10.add_layer(marker)\n",
    "#m10.add_layer(geo_data)\n",
    "m10"
   ]
  },
  {
   "cell_type": "code",
   "execution_count": null,
   "metadata": {},
   "outputs": [],
   "source": []
  }
 ],
 "metadata": {
  "kernelspec": {
   "display_name": "Python 3",
   "language": "python",
   "name": "python3"
  },
  "language_info": {
   "codemirror_mode": {
    "name": "ipython",
    "version": 3
   },
   "file_extension": ".py",
   "mimetype": "text/x-python",
   "name": "python",
   "nbconvert_exporter": "python",
   "pygments_lexer": "ipython3",
   "version": "3.8.5"
  }
 },
 "nbformat": 4,
 "nbformat_minor": 4
}
