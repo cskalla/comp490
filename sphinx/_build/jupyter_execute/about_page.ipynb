{
 "cells": [
  {
   "cell_type": "code",
   "execution_count": 1,
   "metadata": {
    "execution": {
     "iopub.execute_input": "2021-10-26T00:02:46.963743Z",
     "iopub.status.busy": "2021-10-26T00:02:46.963014Z",
     "iopub.status.idle": "2021-10-26T00:02:47.045043Z",
     "shell.execute_reply": "2021-10-26T00:02:47.042602Z"
    }
   },
   "outputs": [
    {
     "data": {
      "application/vnd.jupyter.widget-view+json": {
       "model_id": "12b31591bf824c868ba5edc8efa10a77",
       "version_major": 2,
       "version_minor": 0
      },
      "text/plain": [
       "Map(center=[29.9511, -90.0715], controls=(ZoomControl(options=['position', 'zoom_in_text', 'zoom_in_title', 'z…"
      ]
     },
     "metadata": {},
     "output_type": "display_data"
    }
   ],
   "source": [
    "from ipyleaflet import Map, basemaps, Marker\n",
    "#enter coordinates of map center\n",
    "center = (29.9511, -90.0715)\n",
    "m = Map(basemap=basemaps.OpenStreetMap.Mapnik,center=center, zoom=10)\n",
    "#m = Map(center=center, zoom=10)\n",
    "marker = Marker(location=center, draggable=True)\n",
    "m.add_layer(marker);\n",
    "display(m)\n",
    "# Now that the marker is on the Map, you can drag it with your mouse,\n",
    "# it will automatically update the `marker.location` attribute in Python\n",
    "# You can also update the marker location from Python, that will update the\n",
    "# marker location on the Map:\n",
    "marker.location = (50, 356)\n",
    "m.save('my_map.html', title='My Map')"
   ]
  }
 ],
 "metadata": {
  "kernelspec": {
   "display_name": "Python 3",
   "language": "python",
   "name": "python3"
  },
  "language_info": {
   "codemirror_mode": {
    "name": "ipython",
    "version": 3
   },
   "file_extension": ".py",
   "mimetype": "text/x-python",
   "name": "python",
   "nbconvert_exporter": "python",
   "pygments_lexer": "ipython3",
   "version": "3.8.5"
  },
  "widgets": {
   "application/vnd.jupyter.widget-state+json": {
    "state": {
     "0c56c20b028e4eb8a0bf19b985d52814": {
      "model_module": "jupyter-leaflet",
      "model_module_version": "^0.14.0",
      "model_name": "LeafletMapStyleModel",
      "state": {
       "_model_module": "jupyter-leaflet",
       "_model_module_version": "^0.14.0",
       "_model_name": "LeafletMapStyleModel",
       "_view_count": null,
       "_view_module": "@jupyter-widgets/base",
       "_view_module_version": "1.2.0",
       "_view_name": "StyleView",
       "cursor": "move"
      }
     },
     "12b31591bf824c868ba5edc8efa10a77": {
      "model_module": "jupyter-leaflet",
      "model_module_version": "^0.14.0",
      "model_name": "LeafletMapModel",
      "state": {
       "_dom_classes": [],
       "_model_module": "jupyter-leaflet",
       "_model_module_version": "^0.14.0",
       "_model_name": "LeafletMapModel",
       "_view_count": null,
       "_view_module": "jupyter-leaflet",
       "_view_module_version": "^0.14.0",
       "_view_name": "LeafletMapView",
       "bottom": 0.0,
       "bounce_at_zoom_limits": true,
       "box_zoom": true,
       "center": [
        29.9511,
        -90.0715
       ],
       "close_popup_on_click": true,
       "controls": [
        "IPY_MODEL_4b82173e31e14e77b67427697c7627f1",
        "IPY_MODEL_27d2fd6423444c5193c54b5e4de2ee7e"
       ],
       "crs": {
        "custom": false,
        "name": "EPSG3857"
       },
       "default_style": "IPY_MODEL_9ba40922ec924fb0bfb2b9198f7e026f",
       "double_click_zoom": true,
       "dragging": true,
       "dragging_style": "IPY_MODEL_0c56c20b028e4eb8a0bf19b985d52814",
       "east": 0.0,
       "fullscreen": false,
       "inertia": true,
       "inertia_deceleration": 3000,
       "inertia_max_speed": 1500,
       "interpolation": "bilinear",
       "keyboard": true,
       "keyboard_pan_offset": 80,
       "keyboard_zoom_offset": 1,
       "layers": [
        "IPY_MODEL_5c97402ea2424293a56aac0d08a66575",
        "IPY_MODEL_fa2dc03273d242b68476ff775abc6668"
       ],
       "layout": "IPY_MODEL_c61493f5050b4419aa5f93b9a42035fa",
       "left": 9007199254740991.0,
       "max_zoom": 18.0,
       "min_zoom": 1.0,
       "modisdate": "yesterday",
       "north": 0.0,
       "options": [
        "bounce_at_zoom_limits",
        "box_zoom",
        "center",
        "close_popup_on_click",
        "double_click_zoom",
        "dragging",
        "fullscreen",
        "inertia",
        "inertia_deceleration",
        "inertia_max_speed",
        "interpolation",
        "keyboard",
        "keyboard_pan_offset",
        "keyboard_zoom_offset",
        "max_zoom",
        "min_zoom",
        "scroll_wheel_zoom",
        "tap",
        "tap_tolerance",
        "touch_zoom",
        "world_copy_jump",
        "zoom",
        "zoom_animation_threshold",
        "zoom_delta",
        "zoom_snap",
        "zoom_start"
       ],
       "right": 0.0,
       "scroll_wheel_zoom": false,
       "south": 0.0,
       "style": "IPY_MODEL_a2883c641566439b9ea79c72c51b023b",
       "tap": true,
       "tap_tolerance": 15,
       "top": 9007199254740991.0,
       "touch_zoom": true,
       "west": 0.0,
       "window_url": "",
       "world_copy_jump": false,
       "zoom": 10.0,
       "zoom_animation_threshold": 4,
       "zoom_delta": 1.0,
       "zoom_snap": 1.0,
       "zoom_start": 12.0
      }
     },
     "27d2fd6423444c5193c54b5e4de2ee7e": {
      "model_module": "jupyter-leaflet",
      "model_module_version": "^0.14.0",
      "model_name": "LeafletAttributionControlModel",
      "state": {
       "_model_module": "jupyter-leaflet",
       "_model_module_version": "^0.14.0",
       "_model_name": "LeafletAttributionControlModel",
       "_view_count": null,
       "_view_module": "jupyter-leaflet",
       "_view_module_version": "^0.14.0",
       "_view_name": "LeafletAttributionControlView",
       "options": [
        "position",
        "prefix"
       ],
       "position": "bottomright",
       "prefix": "ipyleaflet"
      }
     },
     "4b82173e31e14e77b67427697c7627f1": {
      "model_module": "jupyter-leaflet",
      "model_module_version": "^0.14.0",
      "model_name": "LeafletZoomControlModel",
      "state": {
       "_model_module": "jupyter-leaflet",
       "_model_module_version": "^0.14.0",
       "_model_name": "LeafletZoomControlModel",
       "_view_count": null,
       "_view_module": "jupyter-leaflet",
       "_view_module_version": "^0.14.0",
       "_view_name": "LeafletZoomControlView",
       "options": [
        "position",
        "zoom_in_text",
        "zoom_in_title",
        "zoom_out_text",
        "zoom_out_title"
       ],
       "position": "topleft",
       "zoom_in_text": "+",
       "zoom_in_title": "Zoom in",
       "zoom_out_text": "-",
       "zoom_out_title": "Zoom out"
      }
     },
     "5c97402ea2424293a56aac0d08a66575": {
      "model_module": "jupyter-leaflet",
      "model_module_version": "^0.14.0",
      "model_name": "LeafletTileLayerModel",
      "state": {
       "_model_module": "jupyter-leaflet",
       "_model_module_version": "^0.14.0",
       "_model_name": "LeafletTileLayerModel",
       "_view_count": null,
       "_view_module": "jupyter-leaflet",
       "_view_module_version": "^0.14.0",
       "_view_name": "LeafletTileLayerView",
       "attribution": "Map data (c) <a href=\"https://openstreetmap.org\">OpenStreetMap</a> contributors",
       "base": true,
       "bottom": true,
       "detect_retina": false,
       "loading": false,
       "max_native_zoom": 18,
       "max_zoom": 19,
       "min_native_zoom": 0,
       "min_zoom": 1,
       "name": "OpenStreetMap.Mapnik",
       "no_wrap": false,
       "opacity": 1.0,
       "options": [
        "attribution",
        "detect_retina",
        "max_native_zoom",
        "max_zoom",
        "min_native_zoom",
        "min_zoom",
        "no_wrap",
        "tile_size",
        "tms"
       ],
       "popup": null,
       "popup_max_height": null,
       "popup_max_width": 300,
       "popup_min_width": 50,
       "show_loading": false,
       "tile_size": 256,
       "tms": false,
       "url": "https://{s}.tile.openstreetmap.org/{z}/{x}/{y}.png",
       "visible": true
      }
     },
     "9ba40922ec924fb0bfb2b9198f7e026f": {
      "model_module": "jupyter-leaflet",
      "model_module_version": "^0.14.0",
      "model_name": "LeafletMapStyleModel",
      "state": {
       "_model_module": "jupyter-leaflet",
       "_model_module_version": "^0.14.0",
       "_model_name": "LeafletMapStyleModel",
       "_view_count": null,
       "_view_module": "@jupyter-widgets/base",
       "_view_module_version": "1.2.0",
       "_view_name": "StyleView",
       "cursor": "grab"
      }
     },
     "a2883c641566439b9ea79c72c51b023b": {
      "model_module": "jupyter-leaflet",
      "model_module_version": "^0.14.0",
      "model_name": "LeafletMapStyleModel",
      "state": {
       "_model_module": "jupyter-leaflet",
       "_model_module_version": "^0.14.0",
       "_model_name": "LeafletMapStyleModel",
       "_view_count": null,
       "_view_module": "@jupyter-widgets/base",
       "_view_module_version": "1.2.0",
       "_view_name": "StyleView",
       "cursor": "grab"
      }
     },
     "c61493f5050b4419aa5f93b9a42035fa": {
      "model_module": "@jupyter-widgets/base",
      "model_module_version": "1.2.0",
      "model_name": "LayoutModel",
      "state": {
       "_model_module": "@jupyter-widgets/base",
       "_model_module_version": "1.2.0",
       "_model_name": "LayoutModel",
       "_view_count": null,
       "_view_module": "@jupyter-widgets/base",
       "_view_module_version": "1.2.0",
       "_view_name": "LayoutView",
       "align_content": null,
       "align_items": null,
       "align_self": null,
       "border": null,
       "bottom": null,
       "display": null,
       "flex": null,
       "flex_flow": null,
       "grid_area": null,
       "grid_auto_columns": null,
       "grid_auto_flow": null,
       "grid_auto_rows": null,
       "grid_column": null,
       "grid_gap": null,
       "grid_row": null,
       "grid_template_areas": null,
       "grid_template_columns": null,
       "grid_template_rows": null,
       "height": null,
       "justify_content": null,
       "justify_items": null,
       "left": null,
       "margin": null,
       "max_height": null,
       "max_width": null,
       "min_height": null,
       "min_width": null,
       "object_fit": null,
       "object_position": null,
       "order": null,
       "overflow": null,
       "overflow_x": null,
       "overflow_y": null,
       "padding": null,
       "right": null,
       "top": null,
       "visibility": null,
       "width": null
      }
     },
     "fa2dc03273d242b68476ff775abc6668": {
      "model_module": "jupyter-leaflet",
      "model_module_version": "^0.14.0",
      "model_name": "LeafletMarkerModel",
      "state": {
       "_model_module": "jupyter-leaflet",
       "_model_module_version": "^0.14.0",
       "_model_name": "LeafletMarkerModel",
       "_view_count": null,
       "_view_module": "jupyter-leaflet",
       "_view_module_version": "^0.14.0",
       "_view_name": "LeafletMarkerView",
       "alt": "",
       "base": false,
       "bottom": false,
       "draggable": true,
       "icon": null,
       "keyboard": true,
       "location": [
        50,
        356
       ],
       "name": "",
       "opacity": 1.0,
       "options": [
        "alt",
        "draggable",
        "keyboard",
        "rise_offset",
        "rise_on_hover",
        "rotation_angle",
        "rotation_origin",
        "title",
        "z_index_offset"
       ],
       "popup": null,
       "popup_max_height": null,
       "popup_max_width": 300,
       "popup_min_width": 50,
       "rise_offset": 250,
       "rise_on_hover": false,
       "rotation_angle": 0.0,
       "rotation_origin": "",
       "title": "",
       "visible": true,
       "z_index_offset": 0
      }
     }
    },
    "version_major": 2,
    "version_minor": 0
   }
  }
 },
 "nbformat": 4,
 "nbformat_minor": 4
}