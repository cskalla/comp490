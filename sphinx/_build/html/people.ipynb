{
 "cells": [
  {
   "cell_type": "markdown",
   "metadata": {},
   "source": [
    "# The People of New Orleans"
   ]
  },
  {
   "cell_type": "markdown",
   "metadata": {},
   "source": [
    "#### The land that New Orleans rests on was initially the home of the Indiginous peoples of the Woodland and Mississippian cultures (History.com Editors, 2010). In 1718, the city of Nouvelle-Orléans was founded by Jean-Baptiste Le Moyne under French rule. In 1762-1763, Louisiana was transferred to Spain. In 1800, Louisiana was passed back to France, who then sold it to the United States in 1803 (Neworleans.com). Throughout this period of time when New Orleans was passing hands, black enslaved individuals were behind the true growth of the city and surrounding area. The kidnapping of African people increased as plantations were created in the area. Under Spanish rule in particular, the rules for enslaved individuals relaxed to a certain degree resulting in a day of rest on Sundays, gathering in the Congo Square to preserve some of their original culture, and the opportunity to buy their way to freedom. Some of this ability to hold on to culture transformed into jazz music, much of which the people and city of New Orleans is known for (United Teachers of New Orleans, 2021). Some of the various historical locations and features of New Orleans are depicted in the Pop-Up Map below. \n"
   ]
  },
  {
   "cell_type": "code",
   "execution_count": null,
   "metadata": {},
   "outputs": [],
   "source": []
  }
 ],
 "metadata": {
  "kernelspec": {
   "display_name": "Python 3",
   "language": "python",
   "name": "python3"
  },
  "language_info": {
   "codemirror_mode": {
    "name": "ipython",
    "version": 3
   },
   "file_extension": ".py",
   "mimetype": "text/x-python",
   "name": "python",
   "nbconvert_exporter": "python",
   "pygments_lexer": "ipython3",
   "version": "3.8.5"
  }
 },
 "nbformat": 4,
 "nbformat_minor": 4
}
