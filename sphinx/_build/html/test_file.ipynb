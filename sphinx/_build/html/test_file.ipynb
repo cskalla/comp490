{
 "cells": [
  {
   "cell_type": "code",
   "execution_count": 1,
   "metadata": {
    "execution": {
     "iopub.execute_input": "2021-10-19T16:10:01.492055Z",
     "iopub.status.busy": "2021-10-19T16:10:01.491225Z",
     "iopub.status.idle": "2021-10-19T16:10:01.493430Z",
     "shell.execute_reply": "2021-10-19T16:10:01.494205Z"
    }
   },
   "outputs": [],
   "source": [
    "#test"
   ]
  }
 ],
 "metadata": {
  "kernelspec": {
   "display_name": "Python 3",
   "language": "python",
   "name": "python3"
  },
  "language_info": {
   "codemirror_mode": {
    "name": "ipython",
    "version": 3
   },
   "file_extension": ".py",
   "mimetype": "text/x-python",
   "name": "python",
   "nbconvert_exporter": "python",
   "pygments_lexer": "ipython3",
   "version": "3.8.5"
  }
 },
 "nbformat": 4,
 "nbformat_minor": 4
}
