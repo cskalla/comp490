{
 "cells": [
  {
   "cell_type": "markdown",
   "metadata": {},
   "source": [
    "# ipyleaflet Tutorial"
   ]
  },
  {
   "cell_type": "markdown",
   "metadata": {},
   "source": [
    "## Generate a basic map:"
   ]
  },
  {
   "cell_type": "code",
   "execution_count": 1,
   "metadata": {},
   "outputs": [
    {
     "data": {
      "application/vnd.jupyter.widget-view+json": {
       "model_id": "da92bb157b1e4a2cad031e54d7b23b03",
       "version_major": 2,
       "version_minor": 0
      },
      "text/plain": [
       "Map(center=[29.9511, -90.0715], controls=(ZoomControl(options=['position', 'zoom_in_text', 'zoom_in_title', 'z…"
      ]
     },
     "metadata": {},
     "output_type": "display_data"
    }
   ],
   "source": [
    "from ipyleaflet import Map, basemaps, Marker\n",
    "#enter coordinates of map center\n",
    "center = (29.9511, -90.0715)\n",
    "m = Map(basemap=basemaps.OpenStreetMap.Mapnik,center=center, zoom=10)\n",
    "#m = Map(center=center, zoom=10)\n",
    "marker = Marker(location=center, draggable=True)\n",
    "m.add_layer(marker);\n",
    "display(m)\n",
    "# Now that the marker is on the Map, you can drag it with your mouse,\n",
    "# it will automatically update the `marker.location` attribute in Python\n",
    "# You can also update the marker location from Python, that will update the\n",
    "# marker location on the Map:\n",
    "marker.location = (50, 356)\n",
    "m.save('my_map.html', title='My Map')"
   ]
  },
  {
   "cell_type": "markdown",
   "metadata": {},
   "source": [
    "## Adding a scale control"
   ]
  },
  {
   "cell_type": "code",
   "execution_count": 8,
   "metadata": {},
   "outputs": [
    {
     "data": {
      "application/vnd.jupyter.widget-view+json": {
       "model_id": "2aa06caa663544b7a113b4eccad90e62",
       "version_major": 2,
       "version_minor": 0
      },
      "text/plain": [
       "Map(center=[29.9511, -90.0715], controls=(ZoomControl(options=['position', 'zoom_in_text', 'zoom_in_title', 'z…"
      ]
     },
     "metadata": {},
     "output_type": "display_data"
    }
   ],
   "source": [
    "#imports\n",
    "from ipyleaflet import Map, basemaps, Marker, WidgetControl\n",
    "import json\n",
    "from ipywidgets import IntSlider, jslink\n",
    "from ipywidgets.embed import embed_data\n",
    "\n",
    "\n",
    "#enter map parameters\n",
    "center = (29.9511, -90.0715)\n",
    "zoom = 10\n",
    "basemap = basemaps.OpenStreetMap.Mapnik\n",
    "#create map object\n",
    "m = Map(basemap=basemap,center=center, zoom=zoom)\n",
    "\n",
    "#add a Marker (a type of Layer control)\n",
    "marker = Marker(location=center, draggable=True)\n",
    "m.add_layer(marker);\n",
    "\n",
    "#Add a sliding bar widget (Zoom control)\n",
    "zoom_slider = IntSlider(description='Zoom level:', min=0, max=20, value=10)\n",
    "jslink((zoom_slider, 'value'), (m, 'zoom'))\n",
    "widget_control1 = WidgetControl(widget=zoom_slider, position='topright')\n",
    "m.add_control(widget_control1)\n",
    "\n",
    "#display the map in Jupyter Notebook\n",
    "display(m)\n"
   ]
  },
  {
   "cell_type": "markdown",
   "metadata": {},
   "source": [
    "## Adding a drop down menu"
   ]
  },
  {
   "cell_type": "code",
   "execution_count": 2,
   "metadata": {},
   "outputs": [
    {
     "data": {
      "text/plain": [
       "'\\n#imports\\nfrom ipyleaflet import Map, basemaps, Marker, WidgetControl, FullScreenControl, basemap_to_tiles\\nimport json\\nfrom ipywidgets import IntSlider, jslink, Dropdown\\nfrom ipywidgets.embed import embed_data\\n\\n\\n#enter map parameters\\ncenter = (29.9511, -90.0715)\\nzoom = 10\\nbasemap = basemaps.OpenStreetMap.Mapnik\\n#create map object\\nm = Map(basemap=basemap,center=center, zoom=zoom)\\n\\n#add a Marker (a type of Layer control)\\n#marker = Marker(location=center, draggable=True)\\n#m.add_layer(marker);\\n\\n#add full screen control\\nm.add_control(FullScreenControl())\\n\\n#Add a sliding bar widget (Zoom control)\\nzoom_slider = IntSlider(description=\\'Zoom level:\\', min=0, max=20, value=10)\\njslink((zoom_slider, \\'value\\'), (m, \\'zoom\\'))\\nwidget_control1 = WidgetControl(widget=zoom_slider, position=\\'topright\\')\\nm.add_control(widget_control1)\\n\\n#Add a drop down menu widget\\ndropdown = Dropdown(\\n    #options=[\\'basemaps.OpenStreetMap.Mapnik\\', \\'basemaps.OpenStreetMap.BlackAndWhite\\', \\'basemaps.OpenStreetMap.HOT\\'],\\n    options=[\\'basemaps.OpenStreetMap.Mapnik\\',\\'basemaps.CartoDB.DarkMatter\\'],\\n    value=\\'basemaps.OpenStreetMap.Mapnik\\',\\n    description=\\'Basemap:\\',\\n    disabled=False,\\n)\\n\\n#add layer\\ndark_matter_layer = basemap_to_tiles(basemaps.CartoDB.DarkMatter)\\nm.add_layer(dark_matter_layer)\\n\\nall_layers = m.layers\\n\\ndef on_change(change):\\n    \\n    if change[\\'type\\'] == \\'change\\' and change[\\'name\\'] == \\'value\\':\\n            print(\"yes?\")\\n            \\n            #m.layers = m.layers[:2] \\n            #print(m.layers)\\n            \\n            #layer_index = change[\\'new\\'] \\n            #m.add_layer(all_layers[layer_index])\\n            \\n    print(change[\\'type\\'])\\n    print(change[\\'new\\']) \\n    print(change[\\'name\\'])\\ndropdown.observe(on_change)\\n\\nwidget_control2 = WidgetControl(widget=dropdown, position=\\'bottomright\\')\\nm.add_control(widget_control2)\\n\\n#display the map in Jupyter Notebook\\ndisplay(m)\\n'"
      ]
     },
     "execution_count": 2,
     "metadata": {},
     "output_type": "execute_result"
    }
   ],
   "source": [
    "\"\"\"\n",
    "#imports\n",
    "from ipyleaflet import Map, basemaps, Marker, WidgetControl, FullScreenControl, basemap_to_tiles\n",
    "import json\n",
    "from ipywidgets import IntSlider, jslink, Dropdown\n",
    "from ipywidgets.embed import embed_data\n",
    "\n",
    "\n",
    "#enter map parameters\n",
    "center = (29.9511, -90.0715)\n",
    "zoom = 10\n",
    "basemap = basemaps.OpenStreetMap.Mapnik\n",
    "#create map object\n",
    "m = Map(basemap=basemap,center=center, zoom=zoom)\n",
    "\n",
    "#add a Marker (a type of Layer control)\n",
    "#marker = Marker(location=center, draggable=True)\n",
    "#m.add_layer(marker);\n",
    "\n",
    "#add full screen control\n",
    "m.add_control(FullScreenControl())\n",
    "\n",
    "#Add a sliding bar widget (Zoom control)\n",
    "zoom_slider = IntSlider(description='Zoom level:', min=0, max=20, value=10)\n",
    "jslink((zoom_slider, 'value'), (m, 'zoom'))\n",
    "widget_control1 = WidgetControl(widget=zoom_slider, position='topright')\n",
    "m.add_control(widget_control1)\n",
    "\n",
    "#Add a drop down menu widget\n",
    "dropdown = Dropdown(\n",
    "    #options=['basemaps.OpenStreetMap.Mapnik', 'basemaps.OpenStreetMap.BlackAndWhite', 'basemaps.OpenStreetMap.HOT'],\n",
    "    options=['basemaps.OpenStreetMap.Mapnik','basemaps.CartoDB.DarkMatter'],\n",
    "    value='basemaps.OpenStreetMap.Mapnik',\n",
    "    description='Basemap:',\n",
    "    disabled=False,\n",
    ")\n",
    "\n",
    "#add layer\n",
    "dark_matter_layer = basemap_to_tiles(basemaps.CartoDB.DarkMatter)\n",
    "m.add_layer(dark_matter_layer)\n",
    "\n",
    "all_layers = m.layers\n",
    "\n",
    "def on_change(change):\n",
    "    \n",
    "    if change['type'] == 'change' and change['name'] == 'value':\n",
    "            print(\"yes?\")\n",
    "            \n",
    "            #m.layers = m.layers[:2] \n",
    "            #print(m.layers)\n",
    "            \n",
    "            #layer_index = change['new'] \n",
    "            #m.add_layer(all_layers[layer_index])\n",
    "            \n",
    "    print(change['type'])\n",
    "    print(change['new']) \n",
    "    print(change['name'])\n",
    "dropdown.observe(on_change)\n",
    "\n",
    "widget_control2 = WidgetControl(widget=dropdown, position='bottomright')\n",
    "m.add_control(widget_control2)\n",
    "\n",
    "#display the map in Jupyter Notebook\n",
    "display(m)\n",
    "\"\"\""
   ]
  },
  {
   "cell_type": "code",
   "execution_count": 1,
   "metadata": {},
   "outputs": [
    {
     "data": {
      "text/plain": [
       "'all_layers = m.layers[:]\\nprint(all_layers)\\nall_layers[1]\\n'"
      ]
     },
     "execution_count": 1,
     "metadata": {},
     "output_type": "execute_result"
    }
   ],
   "source": [
    "\"\"\"all_layers = m.layers[:]\n",
    "print(all_layers)\n",
    "all_layers[1]\n",
    "\"\"\""
   ]
  },
  {
   "cell_type": "markdown",
   "metadata": {},
   "source": [
    "## Adding a layer control"
   ]
  },
  {
   "cell_type": "code",
   "execution_count": 7,
   "metadata": {},
   "outputs": [
    {
     "data": {
      "application/vnd.jupyter.widget-view+json": {
       "model_id": "440c24cf224b4a9b83880ea88ed10250",
       "version_major": 2,
       "version_minor": 0
      },
      "text/plain": [
       "Map(center=[29.9511, -90.0715], controls=(ZoomControl(options=['position', 'zoom_in_text', 'zoom_in_title', 'z…"
      ]
     },
     "metadata": {},
     "output_type": "display_data"
    }
   ],
   "source": [
    "from ipyleaflet import Map, Marker, LayersControl, basemaps, basemap_to_tiles\n",
    "\n",
    "#enter map parameters\n",
    "center = (29.9511, -90.0715)\n",
    "zoom = 10\n",
    "basemap = basemaps.OpenStreetMap.Mapnik\n",
    "#create map object\n",
    "m = Map(basemap=basemap,center=center, zoom=zoom)\n",
    "\n",
    "#marker1 = Marker(name='marker1', location=(48, -2))\n",
    "#marker2 = Marker(name='marker2', location=(50, 0))\n",
    "#marker3 = Marker(name='marker3', location=(52, 2))\n",
    "dark_matter_layer = basemap_to_tiles(basemaps.CartoDB.DarkMatter)\n",
    "m.add_layer(dark_matter_layer)\n",
    "\n",
    "black_white_layer = basemap_to_tiles(basemaps.OpenStreetMap.BlackAndWhite)\n",
    "m.add_layer(black_white_layer)\n",
    "\n",
    "\n",
    "#m.add_layer(marker1)\n",
    "#m.add_layer(marker2)\n",
    "#m.add_layer(marker3)\n",
    "\n",
    "control = LayersControl(position='topright')\n",
    "m.add_control(control)\n",
    "\n",
    "m"
   ]
  },
  {
   "cell_type": "code",
   "execution_count": null,
   "metadata": {},
   "outputs": [],
   "source": []
  }
 ],
 "metadata": {
  "kernelspec": {
   "display_name": "Python 3",
   "language": "python",
   "name": "python3"
  },
  "language_info": {
   "codemirror_mode": {
    "name": "ipython",
    "version": 3
   },
   "file_extension": ".py",
   "mimetype": "text/x-python",
   "name": "python",
   "nbconvert_exporter": "python",
   "pygments_lexer": "ipython3",
   "version": "3.8.5"
  },
  "widgets": {
   "application/vnd.jupyter.widget-state+json": {
    "state": {
     "110c155810934b83b54a78e4ef83692f": {
      "model_module": "jupyter-leaflet",
      "model_module_version": "^0.14.0",
      "model_name": "LeafletZoomControlModel",
      "state": {
       "_model_module_version": "^0.14.0",
       "_view_module_version": "^0.14.0",
       "options": [
        "position",
        "zoom_in_text",
        "zoom_in_title",
        "zoom_out_text",
        "zoom_out_title"
       ]
      }
     },
     "2ed9c5a7b4c544e09523906bbe72e74a": {
      "model_module": "@jupyter-widgets/base",
      "model_module_version": "1.2.0",
      "model_name": "LayoutModel",
      "state": {}
     },
     "3b3b5817d8a44d568fd4df4a0b9119e2": {
      "model_module": "jupyter-leaflet",
      "model_module_version": "^0.14.0",
      "model_name": "LeafletMapStyleModel",
      "state": {
       "_model_module_version": "^0.14.0",
       "cursor": "move"
      }
     },
     "561162d5dd204a0599fac17434e3863b": {
      "model_module": "jupyter-leaflet",
      "model_module_version": "^0.14.0",
      "model_name": "LeafletAttributionControlModel",
      "state": {
       "_model_module_version": "^0.14.0",
       "_view_module_version": "^0.14.0",
       "options": [
        "position",
        "prefix"
       ],
       "position": "bottomright",
       "prefix": "ipyleaflet"
      }
     },
     "657c6f481e9f48aaa4e99cdb207055eb": {
      "model_module": "@jupyter-widgets/base",
      "model_module_version": "1.2.0",
      "model_name": "LayoutModel",
      "state": {}
     },
     "6d0a73337baa48fe86b3bf1b96765bc1": {
      "model_module": "@jupyter-widgets/controls",
      "model_module_version": "1.5.0",
      "model_name": "IntSliderModel",
      "state": {
       "description": "Zoom level:",
       "layout": "IPY_MODEL_657c6f481e9f48aaa4e99cdb207055eb",
       "max": 20,
       "style": "IPY_MODEL_db1fe56f084e471e92efdf6577198780",
       "value": 10
      }
     },
     "7a4f9619e3c54bc28cd2294bff09bf3e": {
      "model_module": "jupyter-leaflet",
      "model_module_version": "^0.14.0",
      "model_name": "LeafletMapStyleModel",
      "state": {
       "_model_module_version": "^0.14.0"
      }
     },
     "848e4409a67f495e9df522a4afb0f41c": {
      "model_module": "jupyter-leaflet",
      "model_module_version": "^0.14.0",
      "model_name": "LeafletWidgetControlModel",
      "state": {
       "_model_module": "jupyter-leaflet",
       "_model_module_version": "^0.14.0",
       "_view_count": null,
       "_view_module": "jupyter-leaflet",
       "_view_module_version": "^0.14.0",
       "options": [
        "position",
        "transparent_bg"
       ],
       "position": "topright",
       "widget": "IPY_MODEL_6d0a73337baa48fe86b3bf1b96765bc1"
      }
     },
     "90347daf1284462ea9e685f81f407b66": {
      "model_module": "jupyter-leaflet",
      "model_module_version": "^0.14.0",
      "model_name": "LeafletMapStyleModel",
      "state": {
       "_model_module_version": "^0.14.0"
      }
     },
     "bc28f3e49e2041bea530ba8ac9aee031": {
      "model_module": "jupyter-leaflet",
      "model_module_version": "^0.14.0",
      "model_name": "LeafletMarkerModel",
      "state": {
       "_model_module_version": "^0.14.0",
       "_view_module_version": "^0.14.0",
       "location": [
        29.9511,
        -90.0715
       ],
       "options": [
        "alt",
        "draggable",
        "keyboard",
        "rise_offset",
        "rise_on_hover",
        "rotation_angle",
        "rotation_origin",
        "title",
        "z_index_offset"
       ]
      }
     },
     "d977084b16f8412bb1b2ac5b112d4e94": {
      "model_module": "jupyter-leaflet",
      "model_module_version": "^0.14.0",
      "model_name": "LeafletTileLayerModel",
      "state": {
       "_model_module_version": "^0.14.0",
       "_view_module_version": "^0.14.0",
       "base": true,
       "max_native_zoom": 18,
       "max_zoom": 19,
       "min_native_zoom": 0,
       "min_zoom": 1,
       "name": "OpenStreetMap.Mapnik",
       "options": [
        "attribution",
        "detect_retina",
        "max_native_zoom",
        "max_zoom",
        "min_native_zoom",
        "min_zoom",
        "no_wrap",
        "tile_size",
        "tms"
       ]
      }
     },
     "db1fe56f084e471e92efdf6577198780": {
      "model_module": "@jupyter-widgets/controls",
      "model_module_version": "1.5.0",
      "model_name": "SliderStyleModel",
      "state": {
       "description_width": ""
      }
     },
     "e5c1552eee024384a2af9def722eda6f": {
      "model_module": "@jupyter-widgets/controls",
      "model_module_version": "1.5.0",
      "model_name": "LinkModel",
      "state": {
       "source": [
        "IPY_MODEL_6d0a73337baa48fe86b3bf1b96765bc1",
        "value"
       ],
       "target": [
        "IPY_MODEL_f76911f2b5fd4caca0256e50fadaa0f4",
        "zoom"
       ]
      }
     },
     "f76911f2b5fd4caca0256e50fadaa0f4": {
      "model_module": "jupyter-leaflet",
      "model_module_version": "^0.14.0",
      "model_name": "LeafletMapModel",
      "state": {
       "_model_module_version": "^0.14.0",
       "_view_module_version": "^0.14.0",
       "bottom": 108388,
       "center": [
        29.95969381418452,
        -90.02746582031251
       ],
       "controls": [
        "IPY_MODEL_110c155810934b83b54a78e4ef83692f",
        "IPY_MODEL_561162d5dd204a0599fac17434e3863b",
        "IPY_MODEL_848e4409a67f495e9df522a4afb0f41c"
       ],
       "default_style": "IPY_MODEL_7a4f9619e3c54bc28cd2294bff09bf3e",
       "dragging_style": "IPY_MODEL_3b3b5817d8a44d568fd4df4a0b9119e2",
       "east": -89.37652587890626,
       "fullscreen": false,
       "interpolation": "bilinear",
       "layers": [
        "IPY_MODEL_d977084b16f8412bb1b2ac5b112d4e94",
        "IPY_MODEL_bc28f3e49e2041bea530ba8ac9aee031"
       ],
       "layout": "IPY_MODEL_2ed9c5a7b4c544e09523906bbe72e74a",
       "left": 65042,
       "modisdate": "yesterday",
       "north": 30.197366063272245,
       "options": [
        "bounce_at_zoom_limits",
        "box_zoom",
        "center",
        "close_popup_on_click",
        "double_click_zoom",
        "dragging",
        "fullscreen",
        "inertia",
        "inertia_deceleration",
        "inertia_max_speed",
        "interpolation",
        "keyboard",
        "keyboard_pan_offset",
        "keyboard_zoom_offset",
        "max_zoom",
        "min_zoom",
        "scroll_wheel_zoom",
        "tap",
        "tap_tolerance",
        "touch_zoom",
        "world_copy_jump",
        "zoom",
        "zoom_animation_threshold",
        "zoom_delta",
        "zoom_snap",
        "zoom_start"
       ],
       "right": 65990,
       "south": 29.72145191669099,
       "style": "IPY_MODEL_7a4f9619e3c54bc28cd2294bff09bf3e",
       "top": 107988,
       "west": -90.67840576171875,
       "window_url": "http://localhost:8888/lab",
       "zoom": 10
      }
     }
    },
    "version_major": 2,
    "version_minor": 0
   }
  }
 },
 "nbformat": 4,
 "nbformat_minor": 4
}
