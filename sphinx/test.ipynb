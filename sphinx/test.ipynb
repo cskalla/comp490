{
 "cells": [
  {
   "cell_type": "markdown",
   "metadata": {},
   "source": [
    "## Test"
   ]
  },
  {
   "cell_type": "code",
   "execution_count": 1,
   "metadata": {},
   "outputs": [
    {
     "name": "stdout",
     "output_type": "stream",
     "text": [
      "hello\n"
     ]
    }
   ],
   "source": [
    "\n",
    "print(\"hello\")"
   ]
  },
  {
   "cell_type": "raw",
   "metadata": {},
   "source": [
    "# %%\n",
    "# This is another section header\n",
    "# ------------------------------\n",
    "# .. dropdown:: My Content\n",
    "#    :open:\n",
    "\n",
    "#    Is already visible\n",
    "#\n",
    "# In the built documentation, it will be rendered as rST after the code above!\n",
    "# This is also another code block.\n",
    "\n"
   ]
  },
  {
   "cell_type": "code",
   "execution_count": 2,
   "metadata": {},
   "outputs": [
    {
     "data": {
      "application/vnd.jupyter.widget-view+json": {
       "model_id": "a54c1a393a33424ab5edd2d38e28b88f",
       "version_major": 2,
       "version_minor": 0
      },
      "text/plain": [
       "Tab(children=(Output(layout=Layout(border='1px solid black')), Output(layout=Layout(border='1px solid black'))…"
      ]
     },
     "metadata": {},
     "output_type": "display_data"
    }
   ],
   "source": [
    "from ipywidgets import widgets\n",
    "#from IPython.display import display\n",
    "from ipyleaflet import Map, basemaps, Marker\n",
    "center = (29.9511, -90.0715)\n",
    "\n",
    "conditions = [\"class\", \"drv\", \"manufacturer\"]\n",
    "\n",
    "tabs_outputs = list()\n",
    "z=10\n",
    "for current_condition in conditions:\n",
    "    \n",
    "    out = widgets.Output(layout={'border': '1px solid black'})\n",
    "    with out:\n",
    "        print(\"hi\")\n",
    "        m = Map(basemap=basemaps.OpenStreetMap.Mapnik,center=center, zoom=z)\n",
    "        display(m)\n",
    "        z+5\n",
    "    tabs_outputs.append(out)\n",
    "        \n",
    "tab = widgets.Tab()\n",
    "tab.children = tabs_outputs\n",
    "for indx in range(len(conditions)):\n",
    "    tab.set_title(indx, \"Condition \" + chr(ord(\"A\") + indx))\n",
    "    \n",
    "tab\n"
   ]
  },
  {
   "cell_type": "code",
   "execution_count": 3,
   "metadata": {},
   "outputs": [
    {
     "data": {
      "application/vnd.jupyter.widget-view+json": {
       "model_id": "7822306edf754f16bb53ef945dd88f12",
       "version_major": 2,
       "version_minor": 0
      },
      "text/plain": [
       "ToggleButtons(description='Speed:', options=('Slow', 'Regular', 'Fast'), tooltips=('Description of slow', 'Des…"
      ]
     },
     "metadata": {},
     "output_type": "display_data"
    }
   ],
   "source": [
    "widgets.ToggleButtons(\n",
    "    options=['Slow', 'Regular', 'Fast'],\n",
    "    description='Speed:',\n",
    "    disabled=False,\n",
    "    button_style='', # 'success', 'info', 'warning', 'danger' or ''\n",
    "    tooltips=['Description of slow', 'Description of regular', 'Description of fast'],\n",
    "#     icons=['check'] * 3\n",
    ")"
   ]
  },
  {
   "cell_type": "code",
   "execution_count": 4,
   "metadata": {},
   "outputs": [
    {
     "data": {
      "application/vnd.jupyter.widget-view+json": {
       "model_id": "7744847801c7407a9789b01d4aeb77fa",
       "version_major": 2,
       "version_minor": 0
      },
      "text/plain": [
       "ToggleButton(value=False, description='Click me', icon='check', tooltip='Description')"
      ]
     },
     "metadata": {},
     "output_type": "display_data"
    }
   ],
   "source": [
    "widgets.ToggleButton(\n",
    "    value=False,\n",
    "    description='Click me',\n",
    "    disabled=False,\n",
    "    button_style='', # 'success', 'info', 'warning', 'danger' or ''\n",
    "    tooltip='Description',\n",
    "    icon='check' # (FontAwesome names without the `fa-` prefix)\n",
    ")"
   ]
  },
  {
   "cell_type": "code",
   "execution_count": null,
   "metadata": {},
   "outputs": [],
   "source": []
  }
 ],
 "metadata": {
  "kernelspec": {
   "display_name": "Python 3",
   "language": "python",
   "name": "python3"
  },
  "language_info": {
   "codemirror_mode": {
    "name": "ipython",
    "version": 3
   },
   "file_extension": ".py",
   "mimetype": "text/x-python",
   "name": "python",
   "nbconvert_exporter": "python",
   "pygments_lexer": "ipython3",
   "version": "3.8.5"
  },
  "widgets": {
   "application/vnd.jupyter.widget-state+json": {
    "state": {
     "00e9e8c4e7dc4636b0db8a5b5d79c93a": {
      "model_module": "@jupyter-widgets/output",
      "model_module_version": "1.0.0",
      "model_name": "OutputModel",
      "state": {
       "layout": "IPY_MODEL_0668c424fc8544ba809fe6f2c7076208",
       "outputs": [
        {
         "name": "stdout",
         "output_type": "stream",
         "text": "hi\n"
        },
        {
         "data": {
          "application/vnd.jupyter.widget-view+json": {
           "model_id": "c93cd016aa284d94b88f099c6327551f",
           "version_major": 2,
           "version_minor": 0
          },
          "text/plain": "Map(center=[29.9511, -90.0715], controls=(ZoomControl(options=['position', 'zoom_in_text', 'zoom_in_title', 'z…"
         },
         "metadata": {},
         "output_type": "display_data"
        }
       ]
      }
     },
     "01f0d6faa1dc41e0b84690f2d3d385d5": {
      "model_module": "@jupyter-widgets/base",
      "model_module_version": "1.2.0",
      "model_name": "LayoutModel",
      "state": {
       "border": "1px solid black"
      }
     },
     "024c93705c7f42289a1b945e639a779d": {
      "model_module": "jupyter-leaflet",
      "model_module_version": "^0.14.0",
      "model_name": "LeafletMapModel",
      "state": {
       "_model_module_version": "^0.14.0",
       "_view_module_version": "^0.14.0",
       "bottom": 108195,
       "center": [
        29.9511,
        -90.0715
       ],
       "controls": [
        "IPY_MODEL_b6bfbeaff71442a78666263331b15f8e",
        "IPY_MODEL_0f49c0902fa84757ab063d7f6c8e99c2"
       ],
       "default_style": "IPY_MODEL_f676300ee7d04113a5236d87bb81d8a5",
       "dragging_style": "IPY_MODEL_18cbb2733ec345c7b0bddf43d8349737",
       "east": -90.07141113281251,
       "fullscreen": false,
       "interpolation": "bilinear",
       "layers": [
        "IPY_MODEL_ecf5a87f21ff4a1b97edbccab9e8e1c9"
       ],
       "layout": "IPY_MODEL_c5f7de5c1a7447a7b2f5d695306d15ac",
       "left": 65484,
       "modisdate": "yesterday",
       "north": 29.951364951739354,
       "options": [
        "bounce_at_zoom_limits",
        "box_zoom",
        "center",
        "close_popup_on_click",
        "double_click_zoom",
        "dragging",
        "fullscreen",
        "inertia",
        "inertia_deceleration",
        "inertia_max_speed",
        "interpolation",
        "keyboard",
        "keyboard_pan_offset",
        "keyboard_zoom_offset",
        "max_zoom",
        "min_zoom",
        "scroll_wheel_zoom",
        "tap",
        "tap_tolerance",
        "touch_zoom",
        "world_copy_jump",
        "zoom",
        "zoom_animation_threshold",
        "zoom_delta",
        "zoom_snap",
        "zoom_start"
       ],
       "right": 65484,
       "south": 29.951364951739354,
       "style": "IPY_MODEL_468d5f62ee4046a8b60508e67c05be8c",
       "top": 108195,
       "west": -90.07141113281251,
       "window_url": "http://localhost:8888/notebooks/Documents/GitHub/comp490/sphinx/test.ipynb#",
       "zoom": 10
      }
     },
     "0668c424fc8544ba809fe6f2c7076208": {
      "model_module": "@jupyter-widgets/base",
      "model_module_version": "1.2.0",
      "model_name": "LayoutModel",
      "state": {
       "border": "1px solid black"
      }
     },
     "0670441e426741e28f3c74f6181e84d9": {
      "model_module": "@jupyter-widgets/base",
      "model_module_version": "1.2.0",
      "model_name": "LayoutModel",
      "state": {
       "border": "1px solid black"
      }
     },
     "08dd88ed1f104a4a957ed80e8b88e48a": {
      "model_module": "jupyter-leaflet",
      "model_module_version": "^0.14.0",
      "model_name": "LeafletZoomControlModel",
      "state": {
       "_model_module_version": "^0.14.0",
       "_view_module_version": "^0.14.0",
       "options": [
        "position",
        "zoom_in_text",
        "zoom_in_title",
        "zoom_out_text",
        "zoom_out_title"
       ]
      }
     },
     "0c4b0a41cc6e4ee8b1ff7af577242b0d": {
      "model_module": "jupyter-leaflet",
      "model_module_version": "^0.14.0",
      "model_name": "LeafletMapStyleModel",
      "state": {
       "_model_module_version": "^0.14.0"
      }
     },
     "0ef1d59b3f964e7082560be9470b42ed": {
      "model_module": "@jupyter-widgets/output",
      "model_module_version": "1.0.0",
      "model_name": "OutputModel",
      "state": {
       "layout": "IPY_MODEL_cfd34d8ee49b4bcf80548e237cc1cdee",
       "outputs": [
        {
         "name": "stdout",
         "output_type": "stream",
         "text": "hi\n"
        }
       ]
      }
     },
     "0f49c0902fa84757ab063d7f6c8e99c2": {
      "model_module": "jupyter-leaflet",
      "model_module_version": "^0.14.0",
      "model_name": "LeafletAttributionControlModel",
      "state": {
       "_model_module_version": "^0.14.0",
       "_view_module_version": "^0.14.0",
       "options": [
        "position",
        "prefix"
       ],
       "position": "bottomright",
       "prefix": "ipyleaflet"
      }
     },
     "10f642df03cd4dc7a0a73e5cefd95380": {
      "model_module": "jupyter-leaflet",
      "model_module_version": "^0.14.0",
      "model_name": "LeafletMapStyleModel",
      "state": {
       "_model_module_version": "^0.14.0",
       "cursor": "move"
      }
     },
     "119963bf1f0643c4b06baeb2976e1ccb": {
      "model_module": "@jupyter-widgets/base",
      "model_module_version": "1.2.0",
      "model_name": "LayoutModel",
      "state": {}
     },
     "134074b54e2941e6911424ac0c6aed24": {
      "model_module": "jupyter-leaflet",
      "model_module_version": "^0.14.0",
      "model_name": "LeafletTileLayerModel",
      "state": {
       "_model_module_version": "^0.14.0",
       "_view_module_version": "^0.14.0",
       "base": true,
       "max_native_zoom": 18,
       "max_zoom": 19,
       "min_native_zoom": 0,
       "min_zoom": 1,
       "name": "OpenStreetMap.Mapnik",
       "options": [
        "attribution",
        "detect_retina",
        "max_native_zoom",
        "max_zoom",
        "min_native_zoom",
        "min_zoom",
        "no_wrap",
        "tile_size",
        "tms"
       ]
      }
     },
     "16cba2ea20194ce496471f5c49bbbc46": {
      "model_module": "jupyter-leaflet",
      "model_module_version": "^0.14.0",
      "model_name": "LeafletMapStyleModel",
      "state": {
       "_model_module_version": "^0.14.0"
      }
     },
     "17640464f39f444fbc0d9075e507232b": {
      "model_module": "jupyter-leaflet",
      "model_module_version": "^0.14.0",
      "model_name": "LeafletAttributionControlModel",
      "state": {
       "_model_module_version": "^0.14.0",
       "_view_module_version": "^0.14.0",
       "options": [
        "position",
        "prefix"
       ],
       "position": "bottomright",
       "prefix": "ipyleaflet"
      }
     },
     "18cbb2733ec345c7b0bddf43d8349737": {
      "model_module": "jupyter-leaflet",
      "model_module_version": "^0.14.0",
      "model_name": "LeafletMapStyleModel",
      "state": {
       "_model_module_version": "^0.14.0",
       "cursor": "move"
      }
     },
     "19153cdc07c042bb915cd6d5eda72581": {
      "model_module": "jupyter-leaflet",
      "model_module_version": "^0.14.0",
      "model_name": "LeafletAttributionControlModel",
      "state": {
       "_model_module_version": "^0.14.0",
       "_view_module_version": "^0.14.0",
       "options": [
        "position",
        "prefix"
       ],
       "position": "bottomright",
       "prefix": "ipyleaflet"
      }
     },
     "1a646df41dac4a38a628f1665f981da2": {
      "model_module": "@jupyter-widgets/base",
      "model_module_version": "1.2.0",
      "model_name": "LayoutModel",
      "state": {}
     },
     "1ba5706506b24e4680ee538d7ca04ee3": {
      "model_module": "@jupyter-widgets/output",
      "model_module_version": "1.0.0",
      "model_name": "OutputModel",
      "state": {
       "layout": "IPY_MODEL_4755e574bd8f4a588d31d86fb5cac74d",
       "outputs": [
        {
         "name": "stdout",
         "output_type": "stream",
         "text": "hi\n"
        }
       ]
      }
     },
     "1ecc071cd3824010844b82d90a1fb7cc": {
      "model_module": "@jupyter-widgets/base",
      "model_module_version": "1.2.0",
      "model_name": "LayoutModel",
      "state": {}
     },
     "254cce4eb67943f98fbe4baaf7708dbd": {
      "model_module": "@jupyter-widgets/controls",
      "model_module_version": "1.5.0",
      "model_name": "TabModel",
      "state": {
       "_titles": {
        "0": "Condition A",
        "1": "Condition B",
        "2": "Condition C"
       },
       "children": [
        "IPY_MODEL_1ba5706506b24e4680ee538d7ca04ee3",
        "IPY_MODEL_75d795716fb74256a5b7e5704ab52364",
        "IPY_MODEL_3de0a1f4d40b4fd8b1c144563a20c4d7"
       ],
       "layout": "IPY_MODEL_3bebeb5cc7e84cfeaeea1a2cbb7837f7"
      }
     },
     "267a71b76b8a43a5a27345d5f9624b19": {
      "model_module": "@jupyter-widgets/base",
      "model_module_version": "1.2.0",
      "model_name": "LayoutModel",
      "state": {
       "border": "1px solid black"
      }
     },
     "2838d35576fa44d8a5546584fb1b33ad": {
      "model_module": "jupyter-leaflet",
      "model_module_version": "^0.14.0",
      "model_name": "LeafletMapStyleModel",
      "state": {
       "_model_module_version": "^0.14.0"
      }
     },
     "2e882c6bd81645579293a46e0751921f": {
      "model_module": "jupyter-leaflet",
      "model_module_version": "^0.14.0",
      "model_name": "LeafletMapModel",
      "state": {
       "_model_module_version": "^0.14.0",
       "_view_module_version": "^0.14.0",
       "bottom": 108195,
       "center": [
        29.9511,
        -90.0715
       ],
       "controls": [
        "IPY_MODEL_64d8a41b47384064ad8890bab13c0b02",
        "IPY_MODEL_19153cdc07c042bb915cd6d5eda72581"
       ],
       "default_style": "IPY_MODEL_4f94273156da4f68a04871ba3f0d8fc7",
       "dragging_style": "IPY_MODEL_f0b09a84f12749f2ad38f5ab7d8ba5ca",
       "east": -90.07141113281251,
       "fullscreen": false,
       "interpolation": "bilinear",
       "layers": [
        "IPY_MODEL_abeaa5dc5bcd42fab34dae1a4665f7ab"
       ],
       "layout": "IPY_MODEL_1a646df41dac4a38a628f1665f981da2",
       "left": 65484,
       "modisdate": "yesterday",
       "north": 29.951364951739354,
       "options": [
        "bounce_at_zoom_limits",
        "box_zoom",
        "center",
        "close_popup_on_click",
        "double_click_zoom",
        "dragging",
        "fullscreen",
        "inertia",
        "inertia_deceleration",
        "inertia_max_speed",
        "interpolation",
        "keyboard",
        "keyboard_pan_offset",
        "keyboard_zoom_offset",
        "max_zoom",
        "min_zoom",
        "scroll_wheel_zoom",
        "tap",
        "tap_tolerance",
        "touch_zoom",
        "world_copy_jump",
        "zoom",
        "zoom_animation_threshold",
        "zoom_delta",
        "zoom_snap",
        "zoom_start"
       ],
       "right": 65484,
       "south": 29.951364951739354,
       "style": "IPY_MODEL_16cba2ea20194ce496471f5c49bbbc46",
       "top": 108195,
       "west": -90.07141113281251,
       "window_url": "http://localhost:8888/notebooks/Documents/GitHub/comp490/sphinx/test.ipynb#",
       "zoom": 10
      }
     },
     "312d2f2e6ee64c39b500bf17603ac199": {
      "model_module": "jupyter-leaflet",
      "model_module_version": "^0.14.0",
      "model_name": "LeafletMapStyleModel",
      "state": {
       "_model_module_version": "^0.14.0",
       "cursor": "move"
      }
     },
     "34611fe559ff46248b13d280f6e44d25": {
      "model_module": "@jupyter-widgets/controls",
      "model_module_version": "1.5.0",
      "model_name": "TabModel",
      "state": {
       "_titles": {
        "0": "Condition A",
        "1": "Condition B",
        "2": "Condition C"
       },
       "children": [
        "IPY_MODEL_82459d2715ef48ed80bc705dc59a24ad",
        "IPY_MODEL_91f559104f2042e1836bbc0984ce7536",
        "IPY_MODEL_e9b2a58d52cb4fca84743a246f4d8e61"
       ],
       "layout": "IPY_MODEL_1ecc071cd3824010844b82d90a1fb7cc"
      }
     },
     "3bebeb5cc7e84cfeaeea1a2cbb7837f7": {
      "model_module": "@jupyter-widgets/base",
      "model_module_version": "1.2.0",
      "model_name": "LayoutModel",
      "state": {}
     },
     "3de0a1f4d40b4fd8b1c144563a20c4d7": {
      "model_module": "@jupyter-widgets/output",
      "model_module_version": "1.0.0",
      "model_name": "OutputModel",
      "state": {
       "layout": "IPY_MODEL_ae6d6963b9dc446fa43e80490bfe7651",
       "outputs": [
        {
         "name": "stdout",
         "output_type": "stream",
         "text": "hi\n"
        }
       ]
      }
     },
     "3de54da4a504424c9dffb642407dfddc": {
      "model_module": "@jupyter-widgets/base",
      "model_module_version": "1.2.0",
      "model_name": "LayoutModel",
      "state": {
       "border": "1px solid black"
      }
     },
     "468d5f62ee4046a8b60508e67c05be8c": {
      "model_module": "jupyter-leaflet",
      "model_module_version": "^0.14.0",
      "model_name": "LeafletMapStyleModel",
      "state": {
       "_model_module_version": "^0.14.0"
      }
     },
     "4755e574bd8f4a588d31d86fb5cac74d": {
      "model_module": "@jupyter-widgets/base",
      "model_module_version": "1.2.0",
      "model_name": "LayoutModel",
      "state": {
       "border": "1px solid black"
      }
     },
     "4ab3492de4ad4b99aa0b73dc7ddf694f": {
      "model_module": "jupyter-leaflet",
      "model_module_version": "^0.14.0",
      "model_name": "LeafletZoomControlModel",
      "state": {
       "_model_module_version": "^0.14.0",
       "_view_module_version": "^0.14.0",
       "options": [
        "position",
        "zoom_in_text",
        "zoom_in_title",
        "zoom_out_text",
        "zoom_out_title"
       ]
      }
     },
     "4f94273156da4f68a04871ba3f0d8fc7": {
      "model_module": "jupyter-leaflet",
      "model_module_version": "^0.14.0",
      "model_name": "LeafletMapStyleModel",
      "state": {
       "_model_module_version": "^0.14.0"
      }
     },
     "4fd27426ebc842cca9ac2341b9fb04b7": {
      "model_module": "jupyter-leaflet",
      "model_module_version": "^0.14.0",
      "model_name": "LeafletTileLayerModel",
      "state": {
       "_model_module_version": "^0.14.0",
       "_view_module_version": "^0.14.0",
       "base": true,
       "max_native_zoom": 18,
       "max_zoom": 19,
       "min_native_zoom": 0,
       "min_zoom": 1,
       "name": "OpenStreetMap.Mapnik",
       "options": [
        "attribution",
        "detect_retina",
        "max_native_zoom",
        "max_zoom",
        "min_native_zoom",
        "min_zoom",
        "no_wrap",
        "tile_size",
        "tms"
       ]
      }
     },
     "64d8a41b47384064ad8890bab13c0b02": {
      "model_module": "jupyter-leaflet",
      "model_module_version": "^0.14.0",
      "model_name": "LeafletZoomControlModel",
      "state": {
       "_model_module_version": "^0.14.0",
       "_view_module_version": "^0.14.0",
       "options": [
        "position",
        "zoom_in_text",
        "zoom_in_title",
        "zoom_out_text",
        "zoom_out_title"
       ]
      }
     },
     "75d795716fb74256a5b7e5704ab52364": {
      "model_module": "@jupyter-widgets/output",
      "model_module_version": "1.0.0",
      "model_name": "OutputModel",
      "state": {
       "layout": "IPY_MODEL_abde7fd478ac48f8802d82d4b315769d",
       "outputs": [
        {
         "name": "stdout",
         "output_type": "stream",
         "text": "hi\n"
        }
       ]
      }
     },
     "764c3c9b0f31426ea029b9ebcb57d10c": {
      "model_module": "jupyter-leaflet",
      "model_module_version": "^0.14.0",
      "model_name": "LeafletMapModel",
      "state": {
       "_model_module_version": "^0.14.0",
       "_view_module_version": "^0.14.0",
       "bottom": 108195,
       "center": [
        29.9511,
        -90.0715
       ],
       "controls": [
        "IPY_MODEL_f2f676b2d4334a6e9d60f8d06b993bf4",
        "IPY_MODEL_7d4257e20d4647e1bf11141fc0e8bf85"
       ],
       "default_style": "IPY_MODEL_80abfdb8ae4347e080310e323554b1cd",
       "dragging_style": "IPY_MODEL_10f642df03cd4dc7a0a73e5cefd95380",
       "east": -90.07141113281251,
       "fullscreen": false,
       "interpolation": "bilinear",
       "layers": [
        "IPY_MODEL_9164aa08bb4f4145915ee837ef79a9b2"
       ],
       "layout": "IPY_MODEL_ae3e0a77ccdc4e3cb886ef20ade0782a",
       "left": 65484,
       "modisdate": "yesterday",
       "north": 29.951364951739354,
       "options": [
        "bounce_at_zoom_limits",
        "box_zoom",
        "center",
        "close_popup_on_click",
        "double_click_zoom",
        "dragging",
        "fullscreen",
        "inertia",
        "inertia_deceleration",
        "inertia_max_speed",
        "interpolation",
        "keyboard",
        "keyboard_pan_offset",
        "keyboard_zoom_offset",
        "max_zoom",
        "min_zoom",
        "scroll_wheel_zoom",
        "tap",
        "tap_tolerance",
        "touch_zoom",
        "world_copy_jump",
        "zoom",
        "zoom_animation_threshold",
        "zoom_delta",
        "zoom_snap",
        "zoom_start"
       ],
       "right": 65484,
       "south": 29.951364951739354,
       "style": "IPY_MODEL_89fdd3f0eb7b4cb59fd6256bd82774ad",
       "top": 108195,
       "west": -90.07141113281251,
       "window_url": "http://localhost:8888/notebooks/Documents/GitHub/comp490/sphinx/test.ipynb#",
       "zoom": 10
      }
     },
     "7d4257e20d4647e1bf11141fc0e8bf85": {
      "model_module": "jupyter-leaflet",
      "model_module_version": "^0.14.0",
      "model_name": "LeafletAttributionControlModel",
      "state": {
       "_model_module_version": "^0.14.0",
       "_view_module_version": "^0.14.0",
       "options": [
        "position",
        "prefix"
       ],
       "position": "bottomright",
       "prefix": "ipyleaflet"
      }
     },
     "80570c560b39489896aab1afb7f023f0": {
      "model_module": "jupyter-leaflet",
      "model_module_version": "^0.14.0",
      "model_name": "LeafletMapStyleModel",
      "state": {
       "_model_module_version": "^0.14.0"
      }
     },
     "80abfdb8ae4347e080310e323554b1cd": {
      "model_module": "jupyter-leaflet",
      "model_module_version": "^0.14.0",
      "model_name": "LeafletMapStyleModel",
      "state": {
       "_model_module_version": "^0.14.0"
      }
     },
     "82459d2715ef48ed80bc705dc59a24ad": {
      "model_module": "@jupyter-widgets/output",
      "model_module_version": "1.0.0",
      "model_name": "OutputModel",
      "state": {
       "layout": "IPY_MODEL_bf1bb9be15674207a3261c7ffc93dcda",
       "outputs": [
        {
         "name": "stdout",
         "output_type": "stream",
         "text": "hi\n"
        },
        {
         "data": {
          "application/vnd.jupyter.widget-view+json": {
           "model_id": "e1c169e1a70f45fd92e1546c356bbb98",
           "version_major": 2,
           "version_minor": 0
          },
          "text/plain": "Map(center=[29.9511, -90.0715], controls=(ZoomControl(options=['position', 'zoom_in_text', 'zoom_in_title', 'z…"
         },
         "metadata": {},
         "output_type": "display_data"
        }
       ]
      }
     },
     "89fdd3f0eb7b4cb59fd6256bd82774ad": {
      "model_module": "jupyter-leaflet",
      "model_module_version": "^0.14.0",
      "model_name": "LeafletMapStyleModel",
      "state": {
       "_model_module_version": "^0.14.0"
      }
     },
     "9164aa08bb4f4145915ee837ef79a9b2": {
      "model_module": "jupyter-leaflet",
      "model_module_version": "^0.14.0",
      "model_name": "LeafletTileLayerModel",
      "state": {
       "_model_module_version": "^0.14.0",
       "_view_module_version": "^0.14.0",
       "base": true,
       "max_native_zoom": 18,
       "max_zoom": 19,
       "min_native_zoom": 0,
       "min_zoom": 1,
       "name": "OpenStreetMap.Mapnik",
       "options": [
        "attribution",
        "detect_retina",
        "max_native_zoom",
        "max_zoom",
        "min_native_zoom",
        "min_zoom",
        "no_wrap",
        "tile_size",
        "tms"
       ]
      }
     },
     "91f559104f2042e1836bbc0984ce7536": {
      "model_module": "@jupyter-widgets/output",
      "model_module_version": "1.0.0",
      "model_name": "OutputModel",
      "state": {
       "layout": "IPY_MODEL_bd3693953d614db9b59630288d36f678",
       "outputs": [
        {
         "name": "stdout",
         "output_type": "stream",
         "text": "hi\n"
        },
        {
         "data": {
          "application/vnd.jupyter.widget-view+json": {
           "model_id": "c76d7285e5594b30ba3a6261f1d06aec",
           "version_major": 2,
           "version_minor": 0
          },
          "text/plain": "Map(center=[29.9511, -90.0715], controls=(ZoomControl(options=['position', 'zoom_in_text', 'zoom_in_title', 'z…"
         },
         "metadata": {},
         "output_type": "display_data"
        }
       ]
      }
     },
     "9283b02ae26a4791aea1c2e36fbeb6fd": {
      "model_module": "jupyter-leaflet",
      "model_module_version": "^0.14.0",
      "model_name": "LeafletMapStyleModel",
      "state": {
       "_model_module_version": "^0.14.0"
      }
     },
     "945aa3eeebf14dcc991c586f3d7ae341": {
      "model_module": "jupyter-leaflet",
      "model_module_version": "^0.14.0",
      "model_name": "LeafletAttributionControlModel",
      "state": {
       "_model_module_version": "^0.14.0",
       "_view_module_version": "^0.14.0",
       "options": [
        "position",
        "prefix"
       ],
       "position": "bottomright",
       "prefix": "ipyleaflet"
      }
     },
     "991cb409e8c74a1891985e62cec04520": {
      "model_module": "@jupyter-widgets/output",
      "model_module_version": "1.0.0",
      "model_name": "OutputModel",
      "state": {
       "layout": "IPY_MODEL_ccc0f32e70924440909c57900359bd72",
       "outputs": [
        {
         "name": "stdout",
         "output_type": "stream",
         "text": "hi\n"
        }
       ]
      }
     },
     "9b01f11d892747b4b6cb29ed01a4c091": {
      "model_module": "@jupyter-widgets/base",
      "model_module_version": "1.2.0",
      "model_name": "LayoutModel",
      "state": {}
     },
     "9c0d3ad4ea9d4a0c85394d843d10e87c": {
      "model_module": "@jupyter-widgets/controls",
      "model_module_version": "1.5.0",
      "model_name": "TabModel",
      "state": {
       "_titles": {
        "0": "Condition A",
        "1": "Condition B",
        "2": "Condition C"
       },
       "children": [
        "IPY_MODEL_0ef1d59b3f964e7082560be9470b42ed",
        "IPY_MODEL_bd6e31f6cc4345b3b4e0d26dde289fcc",
        "IPY_MODEL_991cb409e8c74a1891985e62cec04520"
       ],
       "layout": "IPY_MODEL_119963bf1f0643c4b06baeb2976e1ccb"
      }
     },
     "a2f398bf1c30422bb94e5e03b956fb8f": {
      "model_module": "jupyter-leaflet",
      "model_module_version": "^0.14.0",
      "model_name": "LeafletMapStyleModel",
      "state": {
       "_model_module_version": "^0.14.0"
      }
     },
     "aa7a45c9f69248879df8ec4e748da47a": {
      "model_module": "@jupyter-widgets/base",
      "model_module_version": "1.2.0",
      "model_name": "LayoutModel",
      "state": {}
     },
     "ab73a5dfb2f1442187e842fe7c935a74": {
      "model_module": "jupyter-leaflet",
      "model_module_version": "^0.14.0",
      "model_name": "LeafletZoomControlModel",
      "state": {
       "_model_module_version": "^0.14.0",
       "_view_module_version": "^0.14.0",
       "options": [
        "position",
        "zoom_in_text",
        "zoom_in_title",
        "zoom_out_text",
        "zoom_out_title"
       ]
      }
     },
     "abde7fd478ac48f8802d82d4b315769d": {
      "model_module": "@jupyter-widgets/base",
      "model_module_version": "1.2.0",
      "model_name": "LayoutModel",
      "state": {
       "border": "1px solid black"
      }
     },
     "abeaa5dc5bcd42fab34dae1a4665f7ab": {
      "model_module": "jupyter-leaflet",
      "model_module_version": "^0.14.0",
      "model_name": "LeafletTileLayerModel",
      "state": {
       "_model_module_version": "^0.14.0",
       "_view_module_version": "^0.14.0",
       "base": true,
       "max_native_zoom": 18,
       "max_zoom": 19,
       "min_native_zoom": 0,
       "min_zoom": 1,
       "name": "OpenStreetMap.Mapnik",
       "options": [
        "attribution",
        "detect_retina",
        "max_native_zoom",
        "max_zoom",
        "min_native_zoom",
        "min_zoom",
        "no_wrap",
        "tile_size",
        "tms"
       ]
      }
     },
     "ae3e0a77ccdc4e3cb886ef20ade0782a": {
      "model_module": "@jupyter-widgets/base",
      "model_module_version": "1.2.0",
      "model_name": "LayoutModel",
      "state": {}
     },
     "ae6d6963b9dc446fa43e80490bfe7651": {
      "model_module": "@jupyter-widgets/base",
      "model_module_version": "1.2.0",
      "model_name": "LayoutModel",
      "state": {
       "border": "1px solid black"
      }
     },
     "b6ace900bb6747deaa975ea1dbbeee95": {
      "model_module": "jupyter-leaflet",
      "model_module_version": "^0.14.0",
      "model_name": "LeafletAttributionControlModel",
      "state": {
       "_model_module_version": "^0.14.0",
       "_view_module_version": "^0.14.0",
       "options": [
        "position",
        "prefix"
       ],
       "position": "bottomright",
       "prefix": "ipyleaflet"
      }
     },
     "b6bfbeaff71442a78666263331b15f8e": {
      "model_module": "jupyter-leaflet",
      "model_module_version": "^0.14.0",
      "model_name": "LeafletZoomControlModel",
      "state": {
       "_model_module_version": "^0.14.0",
       "_view_module_version": "^0.14.0",
       "options": [
        "position",
        "zoom_in_text",
        "zoom_in_title",
        "zoom_out_text",
        "zoom_out_title"
       ]
      }
     },
     "bd3693953d614db9b59630288d36f678": {
      "model_module": "@jupyter-widgets/base",
      "model_module_version": "1.2.0",
      "model_name": "LayoutModel",
      "state": {
       "border": "1px solid black"
      }
     },
     "bd6e31f6cc4345b3b4e0d26dde289fcc": {
      "model_module": "@jupyter-widgets/output",
      "model_module_version": "1.0.0",
      "model_name": "OutputModel",
      "state": {
       "layout": "IPY_MODEL_01f0d6faa1dc41e0b84690f2d3d385d5",
       "outputs": [
        {
         "name": "stdout",
         "output_type": "stream",
         "text": "hi\n"
        }
       ]
      }
     },
     "bf1bb9be15674207a3261c7ffc93dcda": {
      "model_module": "@jupyter-widgets/base",
      "model_module_version": "1.2.0",
      "model_name": "LayoutModel",
      "state": {
       "border": "1px solid black"
      }
     },
     "c4613854968e4db0afefb0b6f62933b9": {
      "model_module": "@jupyter-widgets/controls",
      "model_module_version": "1.5.0",
      "model_name": "TabModel",
      "state": {
       "_titles": {
        "0": "Condition A",
        "1": "Condition B",
        "2": "Condition C"
       },
       "children": [
        "IPY_MODEL_00e9e8c4e7dc4636b0db8a5b5d79c93a",
        "IPY_MODEL_e6db8970ff3a4c638c273eab516f5b8a",
        "IPY_MODEL_daea8288ff2942358f1165647e187136"
       ],
       "layout": "IPY_MODEL_aa7a45c9f69248879df8ec4e748da47a"
      }
     },
     "c5f7de5c1a7447a7b2f5d695306d15ac": {
      "model_module": "@jupyter-widgets/base",
      "model_module_version": "1.2.0",
      "model_name": "LayoutModel",
      "state": {}
     },
     "c76d7285e5594b30ba3a6261f1d06aec": {
      "model_module": "jupyter-leaflet",
      "model_module_version": "^0.14.0",
      "model_name": "LeafletMapModel",
      "state": {
       "_model_module_version": "^0.14.0",
       "_view_module_version": "^0.14.0",
       "bottom": 54098,
       "center": [
        29.9511,
        -90.0715
       ],
       "controls": [
        "IPY_MODEL_4ab3492de4ad4b99aa0b73dc7ddf694f",
        "IPY_MODEL_945aa3eeebf14dcc991c586f3d7ae341"
       ],
       "default_style": "IPY_MODEL_80570c560b39489896aab1afb7f023f0",
       "dragging_style": "IPY_MODEL_f1e312a39f754aaaba74ebd315d4eef4",
       "east": -90.07141113281251,
       "fullscreen": false,
       "interpolation": "bilinear",
       "layers": [
        "IPY_MODEL_4fd27426ebc842cca9ac2341b9fb04b7"
       ],
       "layout": "IPY_MODEL_f171ecb70b9a4627849e1e6694e6cc0a",
       "left": 32742,
       "modisdate": "yesterday",
       "north": 29.950175057288813,
       "options": [
        "bounce_at_zoom_limits",
        "box_zoom",
        "center",
        "close_popup_on_click",
        "double_click_zoom",
        "dragging",
        "fullscreen",
        "inertia",
        "inertia_deceleration",
        "inertia_max_speed",
        "interpolation",
        "keyboard",
        "keyboard_pan_offset",
        "keyboard_zoom_offset",
        "max_zoom",
        "min_zoom",
        "scroll_wheel_zoom",
        "tap",
        "tap_tolerance",
        "touch_zoom",
        "world_copy_jump",
        "zoom",
        "zoom_animation_threshold",
        "zoom_delta",
        "zoom_snap",
        "zoom_start"
       ],
       "right": 32742,
       "south": 29.950175057288813,
       "style": "IPY_MODEL_80570c560b39489896aab1afb7f023f0",
       "top": 54098,
       "west": -90.07141113281251,
       "window_url": "http://localhost:8888/notebooks/Documents/GitHub/comp490/sphinx/test.ipynb#",
       "zoom": 9
      }
     },
     "c93cd016aa284d94b88f099c6327551f": {
      "model_module": "jupyter-leaflet",
      "model_module_version": "^0.14.0",
      "model_name": "LeafletMapModel",
      "state": {
       "_model_module_version": "^0.14.0",
       "_view_module_version": "^0.14.0",
       "bottom": 108395,
       "center": [
        29.9511,
        -90.0715
       ],
       "controls": [
        "IPY_MODEL_08dd88ed1f104a4a957ed80e8b88e48a",
        "IPY_MODEL_b6ace900bb6747deaa975ea1dbbeee95"
       ],
       "default_style": "IPY_MODEL_2838d35576fa44d8a5546584fb1b33ad",
       "dragging_style": "IPY_MODEL_d4be657c598a43cdada69887ff6034ef",
       "east": -89.43145751953126,
       "fullscreen": false,
       "interpolation": "bilinear",
       "layers": [
        "IPY_MODEL_fbe1f91317d240db9d1e2b18a14ea162"
       ],
       "layout": "IPY_MODEL_eae9c353d747458abfe3f4d6247376d7",
       "left": 65018,
       "modisdate": "yesterday",
       "north": 30.18905718468536,
       "options": [
        "bounce_at_zoom_limits",
        "box_zoom",
        "center",
        "close_popup_on_click",
        "double_click_zoom",
        "dragging",
        "fullscreen",
        "inertia",
        "inertia_deceleration",
        "inertia_max_speed",
        "interpolation",
        "keyboard",
        "keyboard_pan_offset",
        "keyboard_zoom_offset",
        "max_zoom",
        "min_zoom",
        "scroll_wheel_zoom",
        "tap",
        "tap_tolerance",
        "touch_zoom",
        "world_copy_jump",
        "zoom",
        "zoom_animation_threshold",
        "zoom_delta",
        "zoom_snap",
        "zoom_start"
       ],
       "right": 65950,
       "south": 29.71310316634132,
       "style": "IPY_MODEL_9283b02ae26a4791aea1c2e36fbeb6fd",
       "top": 107995,
       "west": -90.71136474609376,
       "window_url": "http://localhost:8888/notebooks/Documents/GitHub/comp490/sphinx/test.ipynb#",
       "zoom": 10
      }
     },
     "ccc0f32e70924440909c57900359bd72": {
      "model_module": "@jupyter-widgets/base",
      "model_module_version": "1.2.0",
      "model_name": "LayoutModel",
      "state": {
       "border": "1px solid black"
      }
     },
     "cfd34d8ee49b4bcf80548e237cc1cdee": {
      "model_module": "@jupyter-widgets/base",
      "model_module_version": "1.2.0",
      "model_name": "LayoutModel",
      "state": {
       "border": "1px solid black"
      }
     },
     "d4bba27eeca34952bb64806727d95361": {
      "model_module": "jupyter-leaflet",
      "model_module_version": "^0.14.0",
      "model_name": "LeafletMapStyleModel",
      "state": {
       "_model_module_version": "^0.14.0"
      }
     },
     "d4be657c598a43cdada69887ff6034ef": {
      "model_module": "jupyter-leaflet",
      "model_module_version": "^0.14.0",
      "model_name": "LeafletMapStyleModel",
      "state": {
       "_model_module_version": "^0.14.0",
       "cursor": "move"
      }
     },
     "daea8288ff2942358f1165647e187136": {
      "model_module": "@jupyter-widgets/output",
      "model_module_version": "1.0.0",
      "model_name": "OutputModel",
      "state": {
       "layout": "IPY_MODEL_3de54da4a504424c9dffb642407dfddc",
       "outputs": [
        {
         "name": "stdout",
         "output_type": "stream",
         "text": "hi\n"
        },
        {
         "data": {
          "application/vnd.jupyter.widget-view+json": {
           "model_id": "764c3c9b0f31426ea029b9ebcb57d10c",
           "version_major": 2,
           "version_minor": 0
          },
          "text/plain": "Map(center=[29.9511, -90.0715], controls=(ZoomControl(options=['position', 'zoom_in_text', 'zoom_in_title', 'z…"
         },
         "metadata": {},
         "output_type": "display_data"
        }
       ]
      }
     },
     "e1c169e1a70f45fd92e1546c356bbb98": {
      "model_module": "jupyter-leaflet",
      "model_module_version": "^0.14.0",
      "model_name": "LeafletMapModel",
      "state": {
       "_model_module_version": "^0.14.0",
       "_view_module_version": "^0.14.0",
       "bottom": 108395,
       "center": [
        29.9511,
        -90.0715
       ],
       "controls": [
        "IPY_MODEL_ab73a5dfb2f1442187e842fe7c935a74",
        "IPY_MODEL_17640464f39f444fbc0d9075e507232b"
       ],
       "default_style": "IPY_MODEL_d4bba27eeca34952bb64806727d95361",
       "dragging_style": "IPY_MODEL_312d2f2e6ee64c39b500bf17603ac199",
       "east": -89.43145751953126,
       "fullscreen": false,
       "interpolation": "bilinear",
       "layers": [
        "IPY_MODEL_134074b54e2941e6911424ac0c6aed24"
       ],
       "layout": "IPY_MODEL_9b01f11d892747b4b6cb29ed01a4c091",
       "left": 65018,
       "modisdate": "yesterday",
       "north": 30.18905718468536,
       "options": [
        "bounce_at_zoom_limits",
        "box_zoom",
        "center",
        "close_popup_on_click",
        "double_click_zoom",
        "dragging",
        "fullscreen",
        "inertia",
        "inertia_deceleration",
        "inertia_max_speed",
        "interpolation",
        "keyboard",
        "keyboard_pan_offset",
        "keyboard_zoom_offset",
        "max_zoom",
        "min_zoom",
        "scroll_wheel_zoom",
        "tap",
        "tap_tolerance",
        "touch_zoom",
        "world_copy_jump",
        "zoom",
        "zoom_animation_threshold",
        "zoom_delta",
        "zoom_snap",
        "zoom_start"
       ],
       "right": 65950,
       "south": 29.71310316634132,
       "style": "IPY_MODEL_0c4b0a41cc6e4ee8b1ff7af577242b0d",
       "top": 107995,
       "west": -90.71136474609376,
       "window_url": "http://localhost:8888/notebooks/Documents/GitHub/comp490/sphinx/test.ipynb#",
       "zoom": 10
      }
     },
     "e6db8970ff3a4c638c273eab516f5b8a": {
      "model_module": "@jupyter-widgets/output",
      "model_module_version": "1.0.0",
      "model_name": "OutputModel",
      "state": {
       "layout": "IPY_MODEL_0670441e426741e28f3c74f6181e84d9",
       "outputs": [
        {
         "name": "stdout",
         "output_type": "stream",
         "text": "hi\n"
        },
        {
         "data": {
          "application/vnd.jupyter.widget-view+json": {
           "model_id": "024c93705c7f42289a1b945e639a779d",
           "version_major": 2,
           "version_minor": 0
          },
          "text/plain": "Map(center=[29.9511, -90.0715], controls=(ZoomControl(options=['position', 'zoom_in_text', 'zoom_in_title', 'z…"
         },
         "metadata": {},
         "output_type": "display_data"
        }
       ]
      }
     },
     "e9b2a58d52cb4fca84743a246f4d8e61": {
      "model_module": "@jupyter-widgets/output",
      "model_module_version": "1.0.0",
      "model_name": "OutputModel",
      "state": {
       "layout": "IPY_MODEL_267a71b76b8a43a5a27345d5f9624b19",
       "outputs": [
        {
         "name": "stdout",
         "output_type": "stream",
         "text": "hi\n"
        },
        {
         "data": {
          "application/vnd.jupyter.widget-view+json": {
           "model_id": "2e882c6bd81645579293a46e0751921f",
           "version_major": 2,
           "version_minor": 0
          },
          "text/plain": "Map(center=[29.9511, -90.0715], controls=(ZoomControl(options=['position', 'zoom_in_text', 'zoom_in_title', 'z…"
         },
         "metadata": {},
         "output_type": "display_data"
        }
       ]
      }
     },
     "eae9c353d747458abfe3f4d6247376d7": {
      "model_module": "@jupyter-widgets/base",
      "model_module_version": "1.2.0",
      "model_name": "LayoutModel",
      "state": {}
     },
     "ecf5a87f21ff4a1b97edbccab9e8e1c9": {
      "model_module": "jupyter-leaflet",
      "model_module_version": "^0.14.0",
      "model_name": "LeafletTileLayerModel",
      "state": {
       "_model_module_version": "^0.14.0",
       "_view_module_version": "^0.14.0",
       "base": true,
       "max_native_zoom": 18,
       "max_zoom": 19,
       "min_native_zoom": 0,
       "min_zoom": 1,
       "name": "OpenStreetMap.Mapnik",
       "options": [
        "attribution",
        "detect_retina",
        "max_native_zoom",
        "max_zoom",
        "min_native_zoom",
        "min_zoom",
        "no_wrap",
        "tile_size",
        "tms"
       ]
      }
     },
     "f0b09a84f12749f2ad38f5ab7d8ba5ca": {
      "model_module": "jupyter-leaflet",
      "model_module_version": "^0.14.0",
      "model_name": "LeafletMapStyleModel",
      "state": {
       "_model_module_version": "^0.14.0",
       "cursor": "move"
      }
     },
     "f171ecb70b9a4627849e1e6694e6cc0a": {
      "model_module": "@jupyter-widgets/base",
      "model_module_version": "1.2.0",
      "model_name": "LayoutModel",
      "state": {}
     },
     "f1e312a39f754aaaba74ebd315d4eef4": {
      "model_module": "jupyter-leaflet",
      "model_module_version": "^0.14.0",
      "model_name": "LeafletMapStyleModel",
      "state": {
       "_model_module_version": "^0.14.0",
       "cursor": "move"
      }
     },
     "f2f676b2d4334a6e9d60f8d06b993bf4": {
      "model_module": "jupyter-leaflet",
      "model_module_version": "^0.14.0",
      "model_name": "LeafletZoomControlModel",
      "state": {
       "_model_module_version": "^0.14.0",
       "_view_module_version": "^0.14.0",
       "options": [
        "position",
        "zoom_in_text",
        "zoom_in_title",
        "zoom_out_text",
        "zoom_out_title"
       ]
      }
     },
     "f676300ee7d04113a5236d87bb81d8a5": {
      "model_module": "jupyter-leaflet",
      "model_module_version": "^0.14.0",
      "model_name": "LeafletMapStyleModel",
      "state": {
       "_model_module_version": "^0.14.0"
      }
     },
     "fbe1f91317d240db9d1e2b18a14ea162": {
      "model_module": "jupyter-leaflet",
      "model_module_version": "^0.14.0",
      "model_name": "LeafletTileLayerModel",
      "state": {
       "_model_module_version": "^0.14.0",
       "_view_module_version": "^0.14.0",
       "base": true,
       "max_native_zoom": 18,
       "max_zoom": 19,
       "min_native_zoom": 0,
       "min_zoom": 1,
       "name": "OpenStreetMap.Mapnik",
       "options": [
        "attribution",
        "detect_retina",
        "max_native_zoom",
        "max_zoom",
        "min_native_zoom",
        "min_zoom",
        "no_wrap",
        "tile_size",
        "tms"
       ]
      }
     }
    },
    "version_major": 2,
    "version_minor": 0
   }
  }
 },
 "nbformat": 4,
 "nbformat_minor": 4
}
