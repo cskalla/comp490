{
 "cells": [
  {
   "cell_type": "markdown",
   "metadata": {},
   "source": [
    "# ipyleaflet Tutorial"
   ]
  },
  {
   "cell_type": "markdown",
   "metadata": {},
   "source": [
    "## Generate a basic map:"
   ]
  },
  {
   "cell_type": "code",
   "execution_count": 9,
   "metadata": {},
   "outputs": [
    {
     "data": {
      "application/vnd.jupyter.widget-view+json": {
       "model_id": "ffce37ea69c041078962a524f242b812",
       "version_major": 2,
       "version_minor": 0
      },
      "text/plain": [
       "Map(center=[29.9511, -90.0715], controls=(ZoomControl(options=['position', 'zoom_in_text', 'zoom_in_title', 'z…"
      ]
     },
     "metadata": {},
     "output_type": "display_data"
    }
   ],
   "source": [
    "from ipyleaflet import Map, basemaps, Marker\n",
    "#enter coordinates of map center\n",
    "center = (29.9511, -90.0715)\n",
    "m = Map(basemap=basemaps.OpenStreetMap.Mapnik,center=center, zoom=10)\n",
    "#m = Map(center=center, zoom=10)\n",
    "marker = Marker(location=center, draggable=True)\n",
    "m.add_layer(marker);\n",
    "display(m)\n",
    "# Now that the marker is on the Map, you can drag it with your mouse,\n",
    "# it will automatically update the `marker.location` attribute in Python\n",
    "# You can also update the marker location from Python, that will update the\n",
    "# marker location on the Map:\n",
    "marker.location = (50, 356)\n",
    "m.save('my_map.html', title='My Map')"
   ]
  },
  {
   "cell_type": "markdown",
   "metadata": {},
   "source": [
    "## Adding a scale control"
   ]
  },
  {
   "cell_type": "code",
   "execution_count": 10,
   "metadata": {},
   "outputs": [
    {
     "data": {
      "application/vnd.jupyter.widget-view+json": {
       "model_id": "81c54d1372514bdea04090721a2897b4",
       "version_major": 2,
       "version_minor": 0
      },
      "text/plain": [
       "Map(center=[29.9511, -90.0715], controls=(ZoomControl(options=['position', 'zoom_in_text', 'zoom_in_title', 'z…"
      ]
     },
     "metadata": {},
     "output_type": "display_data"
    }
   ],
   "source": [
    "#imports\n",
    "from ipyleaflet import Map, basemaps, Marker, WidgetControl\n",
    "import json\n",
    "from ipywidgets import IntSlider, jslink\n",
    "from ipywidgets.embed import embed_data\n",
    "\n",
    "\n",
    "#enter map parameters\n",
    "center = (29.9511, -90.0715)\n",
    "zoom = 10\n",
    "basemap = basemaps.OpenStreetMap.Mapnik\n",
    "#create map object\n",
    "m = Map(basemap=basemap,center=center, zoom=zoom)\n",
    "\n",
    "#add a Marker (a type of Layer control)\n",
    "marker = Marker(location=center, draggable=True)\n",
    "m.add_layer(marker);\n",
    "\n",
    "#Add a sliding bar widget (Zoom control)\n",
    "zoom_slider = IntSlider(description='Zoom level:', min=0, max=20, value=10)\n",
    "jslink((zoom_slider, 'value'), (m, 'zoom'))\n",
    "widget_control1 = WidgetControl(widget=zoom_slider, position='topright')\n",
    "m.add_control(widget_control1)\n",
    "\n",
    "#display the map in Jupyter Notebook\n",
    "display(m)\n"
   ]
  },
  {
   "cell_type": "markdown",
   "metadata": {},
   "source": [
    "## Adding a drop down menu"
   ]
  },
  {
   "cell_type": "code",
   "execution_count": 2,
   "metadata": {},
   "outputs": [
    {
     "data": {
      "text/plain": [
       "'\\n#imports\\nfrom ipyleaflet import Map, basemaps, Marker, WidgetControl, FullScreenControl, basemap_to_tiles\\nimport json\\nfrom ipywidgets import IntSlider, jslink, Dropdown\\nfrom ipywidgets.embed import embed_data\\n\\n\\n#enter map parameters\\ncenter = (29.9511, -90.0715)\\nzoom = 10\\nbasemap = basemaps.OpenStreetMap.Mapnik\\n#create map object\\nm = Map(basemap=basemap,center=center, zoom=zoom)\\n\\n#add a Marker (a type of Layer control)\\n#marker = Marker(location=center, draggable=True)\\n#m.add_layer(marker);\\n\\n#add full screen control\\nm.add_control(FullScreenControl())\\n\\n#Add a sliding bar widget (Zoom control)\\nzoom_slider = IntSlider(description=\\'Zoom level:\\', min=0, max=20, value=10)\\njslink((zoom_slider, \\'value\\'), (m, \\'zoom\\'))\\nwidget_control1 = WidgetControl(widget=zoom_slider, position=\\'topright\\')\\nm.add_control(widget_control1)\\n\\n#Add a drop down menu widget\\ndropdown = Dropdown(\\n    #options=[\\'basemaps.OpenStreetMap.Mapnik\\', \\'basemaps.OpenStreetMap.BlackAndWhite\\', \\'basemaps.OpenStreetMap.HOT\\'],\\n    options=[\\'basemaps.OpenStreetMap.Mapnik\\',\\'basemaps.CartoDB.DarkMatter\\'],\\n    value=\\'basemaps.OpenStreetMap.Mapnik\\',\\n    description=\\'Basemap:\\',\\n    disabled=False,\\n)\\n\\n#add layer\\ndark_matter_layer = basemap_to_tiles(basemaps.CartoDB.DarkMatter)\\nm.add_layer(dark_matter_layer)\\n\\nall_layers = m.layers\\n\\ndef on_change(change):\\n    \\n    if change[\\'type\\'] == \\'change\\' and change[\\'name\\'] == \\'value\\':\\n            print(\"yes?\")\\n            \\n            #m.layers = m.layers[:2] \\n            #print(m.layers)\\n            \\n            #layer_index = change[\\'new\\'] \\n            #m.add_layer(all_layers[layer_index])\\n            \\n    print(change[\\'type\\'])\\n    print(change[\\'new\\']) \\n    print(change[\\'name\\'])\\ndropdown.observe(on_change)\\n\\nwidget_control2 = WidgetControl(widget=dropdown, position=\\'bottomright\\')\\nm.add_control(widget_control2)\\n\\n#display the map in Jupyter Notebook\\ndisplay(m)\\n'"
      ]
     },
     "execution_count": 2,
     "metadata": {},
     "output_type": "execute_result"
    }
   ],
   "source": [
    "\n",
    "#imports\n",
    "from ipyleaflet import Map, basemaps, Marker, WidgetControl, FullScreenControl, basemap_to_tiles\n",
    "import json\n",
    "from ipywidgets import IntSlider, jslink, Dropdown\n",
    "from ipywidgets.embed import embed_data\n",
    "\n",
    "\n",
    "#enter map parameters\n",
    "center = (29.9511, -90.0715)\n",
    "zoom = 10\n",
    "basemap = basemaps.OpenStreetMap.Mapnik\n",
    "#create map object\n",
    "m = Map(basemap=basemap,center=center, zoom=zoom)\n",
    "\n",
    "#add a Marker (a type of Layer control)\n",
    "#marker = Marker(location=center, draggable=True)\n",
    "#m.add_layer(marker);\n",
    "\n",
    "#add full screen control\n",
    "m.add_control(FullScreenControl())\n",
    "\n",
    "#Add a sliding bar widget (Zoom control)\n",
    "zoom_slider = IntSlider(description='Zoom level:', min=0, max=20, value=10)\n",
    "jslink((zoom_slider, 'value'), (m, 'zoom'))\n",
    "widget_control1 = WidgetControl(widget=zoom_slider, position='topright')\n",
    "m.add_control(widget_control1)\n",
    "\n",
    "#Add a drop down menu widget\n",
    "dropdown = Dropdown(\n",
    "    #options=['basemaps.OpenStreetMap.Mapnik', 'basemaps.OpenStreetMap.BlackAndWhite', 'basemaps.OpenStreetMap.HOT'],\n",
    "    options=['basemaps.OpenStreetMap.Mapnik','basemaps.CartoDB.DarkMatter'],\n",
    "    value='basemaps.OpenStreetMap.Mapnik',\n",
    "    description='Basemap:',\n",
    "    disabled=False,\n",
    ")\n",
    "\n",
    "#add layer\n",
    "dark_matter_layer = basemap_to_tiles(basemaps.CartoDB.DarkMatter)\n",
    "m.add_layer(dark_matter_layer)\n",
    "\n",
    "all_layers = m.layers\n",
    "\n",
    "def on_change(change):\n",
    "    \n",
    "    if change['type'] == 'change' and change['name'] == 'value':\n",
    "            print(\"yes?\")\n",
    "            \n",
    "            #m.layers = m.layers[:2] \n",
    "            #print(m.layers)\n",
    "            \n",
    "            #layer_index = change['new'] \n",
    "            #m.add_layer(all_layers[layer_index])\n",
    "            \n",
    "    print(change['type'])\n",
    "    print(change['new']) \n",
    "    print(change['name'])\n",
    "dropdown.observe(on_change)\n",
    "\n",
    "widget_control2 = WidgetControl(widget=dropdown, position='bottomright')\n",
    "m.add_control(widget_control2)\n",
    "\n",
    "#display the map in Jupyter Notebook\n",
    "display(m)\n"
   ]
  },
  {
   "cell_type": "code",
   "execution_count": 1,
   "metadata": {},
   "outputs": [
    {
     "data": {
      "text/plain": [
       "'all_layers = m.layers[:]\\nprint(all_layers)\\nall_layers[1]\\n'"
      ]
     },
     "execution_count": 1,
     "metadata": {},
     "output_type": "execute_result"
    }
   ],
   "source": [
    "\"\"\"all_layers = m.layers[:]\n",
    "print(all_layers)\n",
    "all_layers[1]\n",
    "\"\"\""
   ]
  },
  {
   "cell_type": "markdown",
   "metadata": {},
   "source": [
    "## Adding a layer control"
   ]
  },
  {
   "cell_type": "code",
   "execution_count": 11,
   "metadata": {},
   "outputs": [
    {
     "data": {
      "application/vnd.jupyter.widget-view+json": {
       "model_id": "609e947f05e84151b53faba41313a2a6",
       "version_major": 2,
       "version_minor": 0
      },
      "text/plain": [
       "Map(center=[29.9511, -90.0715], controls=(ZoomControl(options=['position', 'zoom_in_text', 'zoom_in_title', 'z…"
      ]
     },
     "metadata": {},
     "output_type": "display_data"
    }
   ],
   "source": [
    "from ipyleaflet import Map, Marker, LayersControl, basemaps, basemap_to_tiles\n",
    "\n",
    "#enter map parameters\n",
    "center = (29.9511, -90.0715)\n",
    "zoom = 10\n",
    "basemap = basemaps.OpenStreetMap.Mapnik\n",
    "#create map object\n",
    "m = Map(basemap=basemap,center=center, zoom=zoom)\n",
    "\n",
    "#marker1 = Marker(name='marker1', location=(48, -2))\n",
    "#marker2 = Marker(name='marker2', location=(50, 0))\n",
    "#marker3 = Marker(name='marker3', location=(52, 2))\n",
    "dark_matter_layer = basemap_to_tiles(basemaps.CartoDB.DarkMatter)\n",
    "m.add_layer(dark_matter_layer)\n",
    "\n",
    "black_white_layer = basemap_to_tiles(basemaps.OpenStreetMap.BlackAndWhite)\n",
    "m.add_layer(black_white_layer)\n",
    "\n",
    "\n",
    "#m.add_layer(marker1)\n",
    "#m.add_layer(marker2)\n",
    "#m.add_layer(marker3)\n",
    "\n",
    "control = LayersControl(position='topright')\n",
    "m.add_control(control)\n",
    "\n",
    "m"
   ]
  },
  {
   "cell_type": "code",
   "execution_count": null,
   "metadata": {},
   "outputs": [],
   "source": []
  }
 ],
 "metadata": {
  "kernelspec": {
   "display_name": "Python 3",
   "language": "python",
   "name": "python3"
  },
  "language_info": {
   "codemirror_mode": {
    "name": "ipython",
    "version": 3
   },
   "file_extension": ".py",
   "mimetype": "text/x-python",
   "name": "python",
   "nbconvert_exporter": "python",
   "pygments_lexer": "ipython3",
   "version": "3.8.5"
  },
  "widgets": {
   "application/vnd.jupyter.widget-state+json": {
    "state": {
     "017175a822324f199f2cea45181ba7cd": {
      "model_module": "jupyter-leaflet",
      "model_module_version": "^0.14.0",
      "model_name": "LeafletMarkerModel",
      "state": {
       "_model_module_version": "^0.14.0",
       "_view_module_version": "^0.14.0",
       "location": [
        29.9511,
        -90.0715
       ],
       "options": [
        "alt",
        "draggable",
        "keyboard",
        "rise_offset",
        "rise_on_hover",
        "rotation_angle",
        "rotation_origin",
        "title",
        "z_index_offset"
       ]
      }
     },
     "059f77cb6af44edcb29790aacbbbebd8": {
      "model_module": "jupyter-leaflet",
      "model_module_version": "^0.14.0",
      "model_name": "LeafletMapStyleModel",
      "state": {
       "_model_module_version": "^0.14.0",
       "cursor": "move"
      }
     },
     "06b9037f5f7140f0a1965518fead21d3": {
      "model_module": "jupyter-leaflet",
      "model_module_version": "^0.14.0",
      "model_name": "LeafletLayersControlModel",
      "state": {
       "_model_module_version": "^0.14.0",
       "_view_module_version": "^0.14.0",
       "options": [
        "position"
       ],
       "position": "topright"
      }
     },
     "085b6ad1e8df4bc68070724e5c63c714": {
      "model_module": "jupyter-leaflet",
      "model_module_version": "^0.14.0",
      "model_name": "LeafletAttributionControlModel",
      "state": {
       "_model_module_version": "^0.14.0",
       "_view_module_version": "^0.14.0",
       "options": [
        "position",
        "prefix"
       ],
       "position": "bottomright",
       "prefix": "ipyleaflet"
      }
     },
     "0b50d6cbec404bfba6fd5ccf81c8cb0f": {
      "model_module": "jupyter-leaflet",
      "model_module_version": "^0.14.0",
      "model_name": "LeafletMapStyleModel",
      "state": {
       "_model_module_version": "^0.14.0"
      }
     },
     "0d3885baacb94fec8fb519a9c2efeccb": {
      "model_module": "@jupyter-widgets/base",
      "model_module_version": "1.2.0",
      "model_name": "LayoutModel",
      "state": {}
     },
     "110c155810934b83b54a78e4ef83692f": {
      "model_module": "jupyter-leaflet",
      "model_module_version": "^0.14.0",
      "model_name": "LeafletZoomControlModel",
      "state": {
       "_model_module_version": "^0.14.0",
       "_view_module_version": "^0.14.0",
       "options": [
        "position",
        "zoom_in_text",
        "zoom_in_title",
        "zoom_out_text",
        "zoom_out_title"
       ]
      }
     },
     "198dbcc44ff941a6a98269a3e5dec71c": {
      "model_module": "@jupyter-widgets/base",
      "model_module_version": "1.2.0",
      "model_name": "LayoutModel",
      "state": {}
     },
     "1bf94442b936424a8331afd12b7a733c": {
      "model_module": "jupyter-leaflet",
      "model_module_version": "^0.14.0",
      "model_name": "LeafletZoomControlModel",
      "state": {
       "_model_module_version": "^0.14.0",
       "_view_module_version": "^0.14.0",
       "options": [
        "position",
        "zoom_in_text",
        "zoom_in_title",
        "zoom_out_text",
        "zoom_out_title"
       ]
      }
     },
     "1d7f60f0d1da469383420c112d66c71c": {
      "model_module": "jupyter-leaflet",
      "model_module_version": "^0.14.0",
      "model_name": "LeafletZoomControlModel",
      "state": {
       "_model_module_version": "^0.14.0",
       "_view_module_version": "^0.14.0",
       "options": [
        "position",
        "zoom_in_text",
        "zoom_in_title",
        "zoom_out_text",
        "zoom_out_title"
       ]
      }
     },
     "1e9849d1d15447b6858ce02307060afc": {
      "model_module": "jupyter-leaflet",
      "model_module_version": "^0.14.0",
      "model_name": "LeafletMapStyleModel",
      "state": {
       "_model_module_version": "^0.14.0"
      }
     },
     "1f8b293b284248988b94abf5222f141d": {
      "model_module": "@jupyter-widgets/base",
      "model_module_version": "1.2.0",
      "model_name": "LayoutModel",
      "state": {}
     },
     "20cc6292990c4c5bb8df949f622f68d4": {
      "model_module": "@jupyter-widgets/base",
      "model_module_version": "1.2.0",
      "model_name": "LayoutModel",
      "state": {}
     },
     "212df36fd6bd470f8d32f83a1f7d969a": {
      "model_module": "jupyter-leaflet",
      "model_module_version": "^0.14.0",
      "model_name": "LeafletAttributionControlModel",
      "state": {
       "_model_module_version": "^0.14.0",
       "_view_module_version": "^0.14.0",
       "options": [
        "position",
        "prefix"
       ],
       "position": "bottomright",
       "prefix": "ipyleaflet"
      }
     },
     "258062ddb42f40e39080b7d348092799": {
      "model_module": "jupyter-leaflet",
      "model_module_version": "^0.14.0",
      "model_name": "LeafletMarkerModel",
      "state": {
       "_model_module_version": "^0.14.0",
       "_view_module_version": "^0.14.0",
       "location": [
        50,
        0
       ],
       "name": "marker2",
       "options": [
        "alt",
        "draggable",
        "keyboard",
        "rise_offset",
        "rise_on_hover",
        "rotation_angle",
        "rotation_origin",
        "title",
        "z_index_offset"
       ]
      }
     },
     "2688ad7b05074372980fd5bf740d6628": {
      "model_module": "@jupyter-widgets/base",
      "model_module_version": "1.2.0",
      "model_name": "LayoutModel",
      "state": {}
     },
     "27a38d3415644154a1e112ce4f543fce": {
      "model_module": "@jupyter-widgets/controls",
      "model_module_version": "1.5.0",
      "model_name": "IntSliderModel",
      "state": {
       "description": "Zoom level:",
       "layout": "IPY_MODEL_2688ad7b05074372980fd5bf740d6628",
       "max": 20,
       "style": "IPY_MODEL_f5ceae23931f4ad3a176eb2030079b02",
       "value": 10
      }
     },
     "2a7044cf574f48e2bde5eead6b97c68a": {
      "model_module": "jupyter-leaflet",
      "model_module_version": "^0.14.0",
      "model_name": "LeafletZoomControlModel",
      "state": {
       "_model_module_version": "^0.14.0",
       "_view_module_version": "^0.14.0",
       "options": [
        "position",
        "zoom_in_text",
        "zoom_in_title",
        "zoom_out_text",
        "zoom_out_title"
       ]
      }
     },
     "2aa06caa663544b7a113b4eccad90e62": {
      "model_module": "jupyter-leaflet",
      "model_module_version": "^0.14.0",
      "model_name": "LeafletMapModel",
      "state": {
       "_dragging": true,
       "_model_module_version": "^0.14.0",
       "_view_module_version": "^0.14.0",
       "bottom": 411,
       "center": [
        29.9511,
        -90.0715
       ],
       "controls": [
        "IPY_MODEL_fbb6744b4cd3497a9a3980073deebf9d",
        "IPY_MODEL_462b2af75e414d6f82bed1116a5d3f21",
        "IPY_MODEL_e2eb0345b8a942b8879eb2f4eff482a7"
       ],
       "default_style": "IPY_MODEL_37cefa40fd7549c09e8f2de04a0fc126",
       "dragging_style": "IPY_MODEL_9dfc9ec6cfcc46d39d30dd60debcab13",
       "east": 254.53125000000003,
       "fullscreen": false,
       "interpolation": "bilinear",
       "layers": [
        "IPY_MODEL_ff096ff6e254468bb6be4475fb078535",
        "IPY_MODEL_017175a822324f199f2cea45181ba7cd"
       ],
       "layout": "IPY_MODEL_0d3885baacb94fec8fb519a9c2efeccb",
       "left": -363,
       "modisdate": "yesterday",
       "north": 84.33698037639608,
       "options": [
        "bounce_at_zoom_limits",
        "box_zoom",
        "center",
        "close_popup_on_click",
        "double_click_zoom",
        "dragging",
        "fullscreen",
        "inertia",
        "inertia_deceleration",
        "inertia_max_speed",
        "interpolation",
        "keyboard",
        "keyboard_pan_offset",
        "keyboard_zoom_offset",
        "max_zoom",
        "min_zoom",
        "scroll_wheel_zoom",
        "tap",
        "tap_tolerance",
        "touch_zoom",
        "world_copy_jump",
        "zoom",
        "zoom_animation_threshold",
        "zoom_delta",
        "zoom_snap",
        "zoom_start"
       ],
       "right": 618,
       "south": -73.022591571473,
       "style": "IPY_MODEL_37cefa40fd7549c09e8f2de04a0fc126",
       "top": 11,
       "west": -435.23437500000006,
       "window_url": "http://localhost:8888/notebooks/comp490/sphinx/ipyleaflet_practice.ipynb",
       "zoom": 0
      }
     },
     "2ced1243d96f4ac4bb34bdc12671f74a": {
      "model_module": "jupyter-leaflet",
      "model_module_version": "^0.14.0",
      "model_name": "LeafletMapStyleModel",
      "state": {
       "_model_module_version": "^0.14.0",
       "cursor": "move"
      }
     },
     "2ed9c5a7b4c544e09523906bbe72e74a": {
      "model_module": "@jupyter-widgets/base",
      "model_module_version": "1.2.0",
      "model_name": "LayoutModel",
      "state": {}
     },
     "2fa3619423814aec938237b219f398d4": {
      "model_module": "jupyter-leaflet",
      "model_module_version": "^0.14.0",
      "model_name": "LeafletMapModel",
      "state": {
       "_model_module_version": "^0.14.0",
       "_view_module_version": "^0.14.0",
       "center": [
        50.00773901463687,
        0.0439453125
       ],
       "controls": [
        "IPY_MODEL_dd61a3d986cb4af79e2cce4ac44c8530",
        "IPY_MODEL_3cc97b298b364cf2988a8c44b55d7d72",
        "IPY_MODEL_ab0323c76e164f76abad00b25cf68962"
       ],
       "default_style": "IPY_MODEL_a3cc86c30ccb4365a41dcf00072c0b72",
       "dragging_style": "IPY_MODEL_4aeb80d630214ac48edf86cca3256752",
       "east": -180,
       "fullscreen": false,
       "interpolation": "bilinear",
       "layers": [
        "IPY_MODEL_465f24d68f934579b97c2a612c27543f",
        "IPY_MODEL_438064e9d29f4f2ca434ae713c774dcc",
        "IPY_MODEL_258062ddb42f40e39080b7d348092799",
        "IPY_MODEL_76650b6eb0954a3fa49914de1e50e524"
       ],
       "layout": "IPY_MODEL_d5bd0286a8904c5ab6e88ea59fba5823",
       "modisdate": "yesterday",
       "north": -90,
       "options": [
        "bounce_at_zoom_limits",
        "box_zoom",
        "center",
        "close_popup_on_click",
        "double_click_zoom",
        "dragging",
        "fullscreen",
        "inertia",
        "inertia_deceleration",
        "inertia_max_speed",
        "interpolation",
        "keyboard",
        "keyboard_pan_offset",
        "keyboard_zoom_offset",
        "max_zoom",
        "min_zoom",
        "scroll_wheel_zoom",
        "tap",
        "tap_tolerance",
        "touch_zoom",
        "world_copy_jump",
        "zoom",
        "zoom_animation_threshold",
        "zoom_delta",
        "zoom_snap",
        "zoom_start"
       ],
       "south": 90,
       "style": "IPY_MODEL_a3cc86c30ccb4365a41dcf00072c0b72",
       "west": 180,
       "window_url": "http://localhost:8888/notebooks/comp490/sphinx/ipyleaflet_practice.ipynb",
       "zoom": 5
      }
     },
     "32038f0a4c5043ee930eee437de9bbfe": {
      "model_module": "@jupyter-widgets/controls",
      "model_module_version": "1.5.0",
      "model_name": "SliderStyleModel",
      "state": {
       "description_width": ""
      }
     },
     "348f5715b17c4ae4a3ce7f93071772a3": {
      "model_module": "jupyter-leaflet",
      "model_module_version": "^0.14.0",
      "model_name": "LeafletMapStyleModel",
      "state": {
       "_model_module_version": "^0.14.0",
       "cursor": "move"
      }
     },
     "37cefa40fd7549c09e8f2de04a0fc126": {
      "model_module": "jupyter-leaflet",
      "model_module_version": "^0.14.0",
      "model_name": "LeafletMapStyleModel",
      "state": {
       "_model_module_version": "^0.14.0"
      }
     },
     "382fae5aae23432ea60526ca6e760304": {
      "model_module": "jupyter-leaflet",
      "model_module_version": "^0.14.0",
      "model_name": "LeafletWidgetControlModel",
      "state": {
       "_model_module": "jupyter-leaflet",
       "_model_module_version": "^0.14.0",
       "_view_count": null,
       "_view_module": "jupyter-leaflet",
       "_view_module_version": "^0.14.0",
       "options": [
        "position",
        "transparent_bg"
       ],
       "position": "topright",
       "widget": "IPY_MODEL_27a38d3415644154a1e112ce4f543fce"
      }
     },
     "3b3b5817d8a44d568fd4df4a0b9119e2": {
      "model_module": "jupyter-leaflet",
      "model_module_version": "^0.14.0",
      "model_name": "LeafletMapStyleModel",
      "state": {
       "_model_module_version": "^0.14.0",
       "cursor": "move"
      }
     },
     "3cc97b298b364cf2988a8c44b55d7d72": {
      "model_module": "jupyter-leaflet",
      "model_module_version": "^0.14.0",
      "model_name": "LeafletAttributionControlModel",
      "state": {
       "_model_module_version": "^0.14.0",
       "_view_module_version": "^0.14.0",
       "options": [
        "position",
        "prefix"
       ],
       "position": "bottomright",
       "prefix": "ipyleaflet"
      }
     },
     "3d4e334264a8449fa845c389c1d6f708": {
      "model_module": "@jupyter-widgets/base",
      "model_module_version": "1.2.0",
      "model_name": "LayoutModel",
      "state": {}
     },
     "415d3e4a16494db89f47b260c4df2e67": {
      "model_module": "@jupyter-widgets/base",
      "model_module_version": "1.2.0",
      "model_name": "LayoutModel",
      "state": {}
     },
     "438064e9d29f4f2ca434ae713c774dcc": {
      "model_module": "jupyter-leaflet",
      "model_module_version": "^0.14.0",
      "model_name": "LeafletMarkerModel",
      "state": {
       "_model_module_version": "^0.14.0",
       "_view_module_version": "^0.14.0",
       "location": [
        48,
        -2
       ],
       "name": "marker1",
       "options": [
        "alt",
        "draggable",
        "keyboard",
        "rise_offset",
        "rise_on_hover",
        "rotation_angle",
        "rotation_origin",
        "title",
        "z_index_offset"
       ]
      }
     },
     "43e9f17cfc6d4d23baad85cde2461238": {
      "model_module": "jupyter-leaflet",
      "model_module_version": "^0.14.0",
      "model_name": "LeafletMarkerModel",
      "state": {
       "_model_module_version": "^0.14.0",
       "_view_module_version": "^0.14.0",
       "location": [
        48,
        -2
       ],
       "name": "marker1",
       "options": [
        "alt",
        "draggable",
        "keyboard",
        "rise_offset",
        "rise_on_hover",
        "rotation_angle",
        "rotation_origin",
        "title",
        "z_index_offset"
       ]
      }
     },
     "440c24cf224b4a9b83880ea88ed10250": {
      "model_module": "jupyter-leaflet",
      "model_module_version": "^0.14.0",
      "model_name": "LeafletMapModel",
      "state": {
       "_model_module_version": "^0.14.0",
       "_view_module_version": "^0.14.0",
       "bottom": 108395,
       "center": [
        29.9511,
        -90.0715
       ],
       "controls": [
        "IPY_MODEL_e0c2d8be485641a7b85171d9fb502061",
        "IPY_MODEL_d2c463d254474360883fccd9c5fef03a",
        "IPY_MODEL_06b9037f5f7140f0a1965518fead21d3"
       ],
       "default_style": "IPY_MODEL_d65e1da6275b4f8783d98bc7465aad8c",
       "dragging_style": "IPY_MODEL_2ced1243d96f4ac4bb34bdc12671f74a",
       "east": -89.39849853515626,
       "fullscreen": false,
       "interpolation": "bilinear",
       "layers": [
        "IPY_MODEL_f1a5407affcf4713ab7ac43ea8140f14",
        "IPY_MODEL_982b912b723a485abc7357698565797d",
        "IPY_MODEL_5236a177548543b38bdef4e83c77b3ce"
       ],
       "layout": "IPY_MODEL_6bbc38d5664a4462949f38bd808a978e",
       "left": 64993,
       "modisdate": "yesterday",
       "north": 30.18905718468536,
       "options": [
        "bounce_at_zoom_limits",
        "box_zoom",
        "center",
        "close_popup_on_click",
        "double_click_zoom",
        "dragging",
        "fullscreen",
        "inertia",
        "inertia_deceleration",
        "inertia_max_speed",
        "interpolation",
        "keyboard",
        "keyboard_pan_offset",
        "keyboard_zoom_offset",
        "max_zoom",
        "min_zoom",
        "scroll_wheel_zoom",
        "tap",
        "tap_tolerance",
        "touch_zoom",
        "world_copy_jump",
        "zoom",
        "zoom_animation_threshold",
        "zoom_delta",
        "zoom_snap",
        "zoom_start"
       ],
       "right": 65974,
       "south": 29.71310316634132,
       "style": "IPY_MODEL_5761da29e2864f458f16724b5e5c36c2",
       "top": 107995,
       "west": -90.74569702148438,
       "window_url": "http://localhost:8888/notebooks/comp490/sphinx/ipyleaflet_practice.ipynb",
       "zoom": 10
      }
     },
     "462b2af75e414d6f82bed1116a5d3f21": {
      "model_module": "jupyter-leaflet",
      "model_module_version": "^0.14.0",
      "model_name": "LeafletAttributionControlModel",
      "state": {
       "_model_module_version": "^0.14.0",
       "_view_module_version": "^0.14.0",
       "options": [
        "position",
        "prefix"
       ],
       "position": "bottomright",
       "prefix": "ipyleaflet"
      }
     },
     "465f24d68f934579b97c2a612c27543f": {
      "model_module": "jupyter-leaflet",
      "model_module_version": "^0.14.0",
      "model_name": "LeafletTileLayerModel",
      "state": {
       "_model_module_version": "^0.14.0",
       "_view_module_version": "^0.14.0",
       "base": true,
       "max_native_zoom": 18,
       "max_zoom": 19,
       "min_native_zoom": 0,
       "min_zoom": 1,
       "options": [
        "attribution",
        "detect_retina",
        "max_native_zoom",
        "max_zoom",
        "min_native_zoom",
        "min_zoom",
        "no_wrap",
        "tile_size",
        "tms"
       ]
      }
     },
     "47575124bf9848358170bb02a11ee1ee": {
      "model_module": "jupyter-leaflet",
      "model_module_version": "^0.14.0",
      "model_name": "LeafletMarkerModel",
      "state": {
       "_model_module_version": "^0.14.0",
       "_view_module_version": "^0.14.0",
       "location": [
        50,
        0
       ],
       "name": "marker2",
       "options": [
        "alt",
        "draggable",
        "keyboard",
        "rise_offset",
        "rise_on_hover",
        "rotation_angle",
        "rotation_origin",
        "title",
        "z_index_offset"
       ]
      }
     },
     "48a8fb8ac7654ff086db7df1c7832de5": {
      "model_module": "jupyter-leaflet",
      "model_module_version": "^0.14.0",
      "model_name": "LeafletMapStyleModel",
      "state": {
       "_model_module_version": "^0.14.0"
      }
     },
     "4aeb80d630214ac48edf86cca3256752": {
      "model_module": "jupyter-leaflet",
      "model_module_version": "^0.14.0",
      "model_name": "LeafletMapStyleModel",
      "state": {
       "_model_module_version": "^0.14.0",
       "cursor": "move"
      }
     },
     "5236a177548543b38bdef4e83c77b3ce": {
      "model_module": "jupyter-leaflet",
      "model_module_version": "^0.14.0",
      "model_name": "LeafletTileLayerModel",
      "state": {
       "_model_module_version": "^0.14.0",
       "_view_module_version": "^0.14.0",
       "attribution": "&copy; <a href=\"http://www.openstreetmap.org/copyright\">OpenStreetMap</a>",
       "max_native_zoom": 18,
       "min_native_zoom": 0,
       "min_zoom": 1,
       "name": "OpenStreetMap.BlackAndWhite",
       "options": [
        "attribution",
        "detect_retina",
        "max_native_zoom",
        "max_zoom",
        "min_native_zoom",
        "min_zoom",
        "no_wrap",
        "tile_size",
        "tms"
       ],
       "url": "http://{s}.tiles.wmflabs.org/bw-mapnik/{z}/{x}/{y}.png"
      }
     },
     "5339baa8f26f4f0db31f021d9e4e0e92": {
      "model_module": "@jupyter-widgets/controls",
      "model_module_version": "1.5.0",
      "model_name": "LinkModel",
      "state": {
       "source": [
        "IPY_MODEL_9b0fbba1412e4dd3875d866a6ecdde77",
        "value"
       ],
       "target": [
        "IPY_MODEL_2aa06caa663544b7a113b4eccad90e62",
        "zoom"
       ]
      }
     },
     "5371f705cf4e4e15a0d1cfc3eb0667ff": {
      "model_module": "@jupyter-widgets/controls",
      "model_module_version": "1.5.0",
      "model_name": "LinkModel",
      "state": {
       "source": [
        "IPY_MODEL_27a38d3415644154a1e112ce4f543fce",
        "value"
       ],
       "target": [
        "IPY_MODEL_81c54d1372514bdea04090721a2897b4",
        "zoom"
       ]
      }
     },
     "561162d5dd204a0599fac17434e3863b": {
      "model_module": "jupyter-leaflet",
      "model_module_version": "^0.14.0",
      "model_name": "LeafletAttributionControlModel",
      "state": {
       "_model_module_version": "^0.14.0",
       "_view_module_version": "^0.14.0",
       "options": [
        "position",
        "prefix"
       ],
       "position": "bottomright",
       "prefix": "ipyleaflet"
      }
     },
     "5761da29e2864f458f16724b5e5c36c2": {
      "model_module": "jupyter-leaflet",
      "model_module_version": "^0.14.0",
      "model_name": "LeafletMapStyleModel",
      "state": {
       "_model_module_version": "^0.14.0"
      }
     },
     "5c77d3f50fd3465bb9723eca62f7c625": {
      "model_module": "jupyter-leaflet",
      "model_module_version": "^0.14.0",
      "model_name": "LeafletMapModel",
      "state": {
       "_model_module_version": "^0.14.0",
       "_view_module_version": "^0.14.0",
       "center": [
        29.951364951739354,
        -90.07141113281251
       ],
       "controls": [
        "IPY_MODEL_1bf94442b936424a8331afd12b7a733c",
        "IPY_MODEL_ded9b30116e947b8a184a0120b72678f",
        "IPY_MODEL_b37d2cf604334385acdc52a898ad7d73"
       ],
       "default_style": "IPY_MODEL_7d47d151175348ef992143f737bbe8d8",
       "dragging_style": "IPY_MODEL_348f5715b17c4ae4a3ce7f93071772a3",
       "east": -180,
       "fullscreen": false,
       "interpolation": "bilinear",
       "layers": [
        "IPY_MODEL_8b4c24c4e841438cb47b753026de6a02",
        "IPY_MODEL_43e9f17cfc6d4d23baad85cde2461238",
        "IPY_MODEL_47575124bf9848358170bb02a11ee1ee",
        "IPY_MODEL_a101f3ee8e824ac78dd4a643de85e95f"
       ],
       "layout": "IPY_MODEL_3d4e334264a8449fa845c389c1d6f708",
       "modisdate": "yesterday",
       "north": -90,
       "options": [
        "bounce_at_zoom_limits",
        "box_zoom",
        "center",
        "close_popup_on_click",
        "double_click_zoom",
        "dragging",
        "fullscreen",
        "inertia",
        "inertia_deceleration",
        "inertia_max_speed",
        "interpolation",
        "keyboard",
        "keyboard_pan_offset",
        "keyboard_zoom_offset",
        "max_zoom",
        "min_zoom",
        "scroll_wheel_zoom",
        "tap",
        "tap_tolerance",
        "touch_zoom",
        "world_copy_jump",
        "zoom",
        "zoom_animation_threshold",
        "zoom_delta",
        "zoom_snap",
        "zoom_start"
       ],
       "south": 90,
       "style": "IPY_MODEL_7d47d151175348ef992143f737bbe8d8",
       "west": 180,
       "window_url": "http://localhost:8888/notebooks/comp490/sphinx/ipyleaflet_practice.ipynb",
       "zoom": 10
      }
     },
     "60419c5a6e1b4826a4df41c2d818c900": {
      "model_module": "jupyter-leaflet",
      "model_module_version": "^0.14.0",
      "model_name": "LeafletAttributionControlModel",
      "state": {
       "_model_module_version": "^0.14.0",
       "_view_module_version": "^0.14.0",
       "options": [
        "position",
        "prefix"
       ],
       "position": "bottomright",
       "prefix": "ipyleaflet"
      }
     },
     "609e947f05e84151b53faba41313a2a6": {
      "model_module": "jupyter-leaflet",
      "model_module_version": "^0.14.0",
      "model_name": "LeafletMapModel",
      "state": {
       "_model_module_version": "^0.14.0",
       "_view_module_version": "^0.14.0",
       "bottom": 108395,
       "center": [
        29.9511,
        -90.0715
       ],
       "controls": [
        "IPY_MODEL_1d7f60f0d1da469383420c112d66c71c",
        "IPY_MODEL_085b6ad1e8df4bc68070724e5c63c714",
        "IPY_MODEL_ca3d0143c7f74561981c8371867e235c"
       ],
       "default_style": "IPY_MODEL_1e9849d1d15447b6858ce02307060afc",
       "dragging_style": "IPY_MODEL_7261d0a2a8f74027bba876378c85e84b",
       "east": -89.39849853515626,
       "fullscreen": false,
       "interpolation": "bilinear",
       "layers": [
        "IPY_MODEL_8c2c5c25f4b744009aafc69296844f5d",
        "IPY_MODEL_9e14708e8e5049328b33ccd7c431deb0",
        "IPY_MODEL_936e669813ee42d0ac86b123bab8ad63"
       ],
       "layout": "IPY_MODEL_20cc6292990c4c5bb8df949f622f68d4",
       "left": 64993,
       "modisdate": "yesterday",
       "north": 30.18905718468536,
       "options": [
        "bounce_at_zoom_limits",
        "box_zoom",
        "center",
        "close_popup_on_click",
        "double_click_zoom",
        "dragging",
        "fullscreen",
        "inertia",
        "inertia_deceleration",
        "inertia_max_speed",
        "interpolation",
        "keyboard",
        "keyboard_pan_offset",
        "keyboard_zoom_offset",
        "max_zoom",
        "min_zoom",
        "scroll_wheel_zoom",
        "tap",
        "tap_tolerance",
        "touch_zoom",
        "world_copy_jump",
        "zoom",
        "zoom_animation_threshold",
        "zoom_delta",
        "zoom_snap",
        "zoom_start"
       ],
       "right": 65974,
       "south": 29.71310316634132,
       "style": "IPY_MODEL_72858b327fa94cf2b7af79da14e53f21",
       "top": 107995,
       "west": -90.74569702148438,
       "window_url": "http://localhost:8888/notebooks/comp490/sphinx/ipyleaflet_practice.ipynb",
       "zoom": 10
      }
     },
     "6453659ea34349b3951ed127d0f444d7": {
      "model_module": "jupyter-leaflet",
      "model_module_version": "^0.14.0",
      "model_name": "LeafletMapStyleModel",
      "state": {
       "_model_module_version": "^0.14.0"
      }
     },
     "657c6f481e9f48aaa4e99cdb207055eb": {
      "model_module": "@jupyter-widgets/base",
      "model_module_version": "1.2.0",
      "model_name": "LayoutModel",
      "state": {}
     },
     "6bbc38d5664a4462949f38bd808a978e": {
      "model_module": "@jupyter-widgets/base",
      "model_module_version": "1.2.0",
      "model_name": "LayoutModel",
      "state": {}
     },
     "6d0a73337baa48fe86b3bf1b96765bc1": {
      "model_module": "@jupyter-widgets/controls",
      "model_module_version": "1.5.0",
      "model_name": "IntSliderModel",
      "state": {
       "description": "Zoom level:",
       "layout": "IPY_MODEL_657c6f481e9f48aaa4e99cdb207055eb",
       "max": 20,
       "style": "IPY_MODEL_db1fe56f084e471e92efdf6577198780",
       "value": 10
      }
     },
     "7261d0a2a8f74027bba876378c85e84b": {
      "model_module": "jupyter-leaflet",
      "model_module_version": "^0.14.0",
      "model_name": "LeafletMapStyleModel",
      "state": {
       "_model_module_version": "^0.14.0",
       "cursor": "move"
      }
     },
     "72858b327fa94cf2b7af79da14e53f21": {
      "model_module": "jupyter-leaflet",
      "model_module_version": "^0.14.0",
      "model_name": "LeafletMapStyleModel",
      "state": {
       "_model_module_version": "^0.14.0"
      }
     },
     "746c826a3d2e48168f62bc3c7523495b": {
      "model_module": "@jupyter-widgets/base",
      "model_module_version": "1.2.0",
      "model_name": "LayoutModel",
      "state": {}
     },
     "76650b6eb0954a3fa49914de1e50e524": {
      "model_module": "jupyter-leaflet",
      "model_module_version": "^0.14.0",
      "model_name": "LeafletMarkerModel",
      "state": {
       "_model_module_version": "^0.14.0",
       "_view_module_version": "^0.14.0",
       "location": [
        52,
        2
       ],
       "name": "marker3",
       "options": [
        "alt",
        "draggable",
        "keyboard",
        "rise_offset",
        "rise_on_hover",
        "rotation_angle",
        "rotation_origin",
        "title",
        "z_index_offset"
       ]
      }
     },
     "7684d48dadf34112aabf47561a68f27c": {
      "model_module": "jupyter-leaflet",
      "model_module_version": "^0.14.0",
      "model_name": "LeafletTileLayerModel",
      "state": {
       "_model_module_version": "^0.14.0",
       "_view_module_version": "^0.14.0",
       "base": true,
       "max_native_zoom": 18,
       "max_zoom": 19,
       "min_native_zoom": 0,
       "min_zoom": 1,
       "name": "OpenStreetMap.Mapnik",
       "options": [
        "attribution",
        "detect_retina",
        "max_native_zoom",
        "max_zoom",
        "min_native_zoom",
        "min_zoom",
        "no_wrap",
        "tile_size",
        "tms"
       ]
      }
     },
     "792a31a8b306453192a8c7f2d9fd7f85": {
      "model_module": "jupyter-leaflet",
      "model_module_version": "^0.14.0",
      "model_name": "LeafletMapStyleModel",
      "state": {
       "_model_module_version": "^0.14.0"
      }
     },
     "7a4f9619e3c54bc28cd2294bff09bf3e": {
      "model_module": "jupyter-leaflet",
      "model_module_version": "^0.14.0",
      "model_name": "LeafletMapStyleModel",
      "state": {
       "_model_module_version": "^0.14.0"
      }
     },
     "7ad49141211042ce9ee33894de4f0105": {
      "model_module": "jupyter-leaflet",
      "model_module_version": "^0.14.0",
      "model_name": "LeafletMapModel",
      "state": {
       "_model_module_version": "^0.14.0",
       "_view_module_version": "^0.14.0",
       "center": [
        29.951364951739354,
        -90.07141113281251
       ],
       "controls": [
        "IPY_MODEL_2a7044cf574f48e2bde5eead6b97c68a",
        "IPY_MODEL_abb23c98c7a441bd8737d84780c55672",
        "IPY_MODEL_de81be28dc1f414a895000fab5980222"
       ],
       "default_style": "IPY_MODEL_885dfcdb71c549859b515f03c0767944",
       "dragging_style": "IPY_MODEL_059f77cb6af44edcb29790aacbbbebd8",
       "east": -180,
       "fullscreen": false,
       "interpolation": "bilinear",
       "layers": [
        "IPY_MODEL_94a046f31118452a956a1d3b4349d54a",
        "IPY_MODEL_7d2f299d415644bdbfcbfbee62e0c621",
        "IPY_MODEL_b5a3f6237b39440eb5cc8c1b4d81e3a1"
       ],
       "layout": "IPY_MODEL_198dbcc44ff941a6a98269a3e5dec71c",
       "modisdate": "yesterday",
       "north": -90,
       "options": [
        "bounce_at_zoom_limits",
        "box_zoom",
        "center",
        "close_popup_on_click",
        "double_click_zoom",
        "dragging",
        "fullscreen",
        "inertia",
        "inertia_deceleration",
        "inertia_max_speed",
        "interpolation",
        "keyboard",
        "keyboard_pan_offset",
        "keyboard_zoom_offset",
        "max_zoom",
        "min_zoom",
        "scroll_wheel_zoom",
        "tap",
        "tap_tolerance",
        "touch_zoom",
        "world_copy_jump",
        "zoom",
        "zoom_animation_threshold",
        "zoom_delta",
        "zoom_snap",
        "zoom_start"
       ],
       "south": 90,
       "style": "IPY_MODEL_885dfcdb71c549859b515f03c0767944",
       "west": 180,
       "window_url": "http://localhost:8888/notebooks/comp490/sphinx/ipyleaflet_practice.ipynb",
       "zoom": 10
      }
     },
     "7ad89455e7d146b29e2e16beea9dccdd": {
      "model_module": "jupyter-leaflet",
      "model_module_version": "^0.14.0",
      "model_name": "LeafletMapStyleModel",
      "state": {
       "_model_module_version": "^0.14.0"
      }
     },
     "7d2f299d415644bdbfcbfbee62e0c621": {
      "model_module": "jupyter-leaflet",
      "model_module_version": "^0.14.0",
      "model_name": "LeafletTileLayerModel",
      "state": {
       "_model_module_version": "^0.14.0",
       "_view_module_version": "^0.14.0",
       "attribution": "&copy; <a href=\"http://www.openstreetmap.org/copyright\">OpenStreetMap</a> &copy; <a href=\"http://cartodb.com/attributions\">CartoDB</a>",
       "max_native_zoom": 18,
       "max_zoom": 20,
       "min_native_zoom": 0,
       "min_zoom": 1,
       "name": "CartoDB.DarkMatter",
       "options": [
        "attribution",
        "detect_retina",
        "max_native_zoom",
        "max_zoom",
        "min_native_zoom",
        "min_zoom",
        "no_wrap",
        "tile_size",
        "tms"
       ],
       "url": "http://c.basemaps.cartocdn.com/dark_all/{z}/{x}/{y}.png"
      }
     },
     "7d47d151175348ef992143f737bbe8d8": {
      "model_module": "jupyter-leaflet",
      "model_module_version": "^0.14.0",
      "model_name": "LeafletMapStyleModel",
      "state": {
       "_model_module_version": "^0.14.0"
      }
     },
     "81c54d1372514bdea04090721a2897b4": {
      "model_module": "jupyter-leaflet",
      "model_module_version": "^0.14.0",
      "model_name": "LeafletMapModel",
      "state": {
       "_model_module_version": "^0.14.0",
       "_view_module_version": "^0.14.0",
       "bottom": 108395,
       "center": [
        29.9511,
        -90.0715
       ],
       "controls": [
        "IPY_MODEL_c286d56e715d431f9625abcccbe0ce1f",
        "IPY_MODEL_60419c5a6e1b4826a4df41c2d818c900",
        "IPY_MODEL_382fae5aae23432ea60526ca6e760304"
       ],
       "default_style": "IPY_MODEL_6453659ea34349b3951ed127d0f444d7",
       "dragging_style": "IPY_MODEL_9a2a62d433ae41cea597dd392292a053",
       "east": -89.39849853515626,
       "fullscreen": false,
       "interpolation": "bilinear",
       "layers": [
        "IPY_MODEL_f325c1b30bc641f08ab0584eb77fc0a4",
        "IPY_MODEL_ae4dbadefa494edd88f67263ae2b581a"
       ],
       "layout": "IPY_MODEL_746c826a3d2e48168f62bc3c7523495b",
       "left": 64993,
       "modisdate": "yesterday",
       "north": 30.18905718468536,
       "options": [
        "bounce_at_zoom_limits",
        "box_zoom",
        "center",
        "close_popup_on_click",
        "double_click_zoom",
        "dragging",
        "fullscreen",
        "inertia",
        "inertia_deceleration",
        "inertia_max_speed",
        "interpolation",
        "keyboard",
        "keyboard_pan_offset",
        "keyboard_zoom_offset",
        "max_zoom",
        "min_zoom",
        "scroll_wheel_zoom",
        "tap",
        "tap_tolerance",
        "touch_zoom",
        "world_copy_jump",
        "zoom",
        "zoom_animation_threshold",
        "zoom_delta",
        "zoom_snap",
        "zoom_start"
       ],
       "right": 65974,
       "south": 29.71310316634132,
       "style": "IPY_MODEL_7ad89455e7d146b29e2e16beea9dccdd",
       "top": 107995,
       "west": -90.74569702148438,
       "window_url": "http://localhost:8888/notebooks/comp490/sphinx/ipyleaflet_practice.ipynb",
       "zoom": 10
      }
     },
     "834045b492af4f91890d1a65f1a9dd3a": {
      "model_module": "jupyter-leaflet",
      "model_module_version": "^0.14.0",
      "model_name": "LeafletMapStyleModel",
      "state": {
       "_model_module_version": "^0.14.0",
       "cursor": "move"
      }
     },
     "848e4409a67f495e9df522a4afb0f41c": {
      "model_module": "jupyter-leaflet",
      "model_module_version": "^0.14.0",
      "model_name": "LeafletWidgetControlModel",
      "state": {
       "_model_module": "jupyter-leaflet",
       "_model_module_version": "^0.14.0",
       "_view_count": null,
       "_view_module": "jupyter-leaflet",
       "_view_module_version": "^0.14.0",
       "options": [
        "position",
        "transparent_bg"
       ],
       "position": "topright",
       "widget": "IPY_MODEL_6d0a73337baa48fe86b3bf1b96765bc1"
      }
     },
     "885dfcdb71c549859b515f03c0767944": {
      "model_module": "jupyter-leaflet",
      "model_module_version": "^0.14.0",
      "model_name": "LeafletMapStyleModel",
      "state": {
       "_model_module_version": "^0.14.0"
      }
     },
     "8b4c24c4e841438cb47b753026de6a02": {
      "model_module": "jupyter-leaflet",
      "model_module_version": "^0.14.0",
      "model_name": "LeafletTileLayerModel",
      "state": {
       "_model_module_version": "^0.14.0",
       "_view_module_version": "^0.14.0",
       "base": true,
       "max_native_zoom": 18,
       "max_zoom": 19,
       "min_native_zoom": 0,
       "min_zoom": 1,
       "name": "OpenStreetMap.Mapnik",
       "options": [
        "attribution",
        "detect_retina",
        "max_native_zoom",
        "max_zoom",
        "min_native_zoom",
        "min_zoom",
        "no_wrap",
        "tile_size",
        "tms"
       ]
      }
     },
     "8c2c5c25f4b744009aafc69296844f5d": {
      "model_module": "jupyter-leaflet",
      "model_module_version": "^0.14.0",
      "model_name": "LeafletTileLayerModel",
      "state": {
       "_model_module_version": "^0.14.0",
       "_view_module_version": "^0.14.0",
       "base": true,
       "max_native_zoom": 18,
       "max_zoom": 19,
       "min_native_zoom": 0,
       "min_zoom": 1,
       "name": "OpenStreetMap.Mapnik",
       "options": [
        "attribution",
        "detect_retina",
        "max_native_zoom",
        "max_zoom",
        "min_native_zoom",
        "min_zoom",
        "no_wrap",
        "tile_size",
        "tms"
       ]
      }
     },
     "90347daf1284462ea9e685f81f407b66": {
      "model_module": "jupyter-leaflet",
      "model_module_version": "^0.14.0",
      "model_name": "LeafletMapStyleModel",
      "state": {
       "_model_module_version": "^0.14.0"
      }
     },
     "936e669813ee42d0ac86b123bab8ad63": {
      "model_module": "jupyter-leaflet",
      "model_module_version": "^0.14.0",
      "model_name": "LeafletTileLayerModel",
      "state": {
       "_model_module_version": "^0.14.0",
       "_view_module_version": "^0.14.0",
       "attribution": "&copy; <a href=\"http://www.openstreetmap.org/copyright\">OpenStreetMap</a>",
       "max_native_zoom": 18,
       "min_native_zoom": 0,
       "min_zoom": 1,
       "name": "OpenStreetMap.BlackAndWhite",
       "options": [
        "attribution",
        "detect_retina",
        "max_native_zoom",
        "max_zoom",
        "min_native_zoom",
        "min_zoom",
        "no_wrap",
        "tile_size",
        "tms"
       ],
       "url": "http://{s}.tiles.wmflabs.org/bw-mapnik/{z}/{x}/{y}.png"
      }
     },
     "94a046f31118452a956a1d3b4349d54a": {
      "model_module": "jupyter-leaflet",
      "model_module_version": "^0.14.0",
      "model_name": "LeafletTileLayerModel",
      "state": {
       "_model_module_version": "^0.14.0",
       "_view_module_version": "^0.14.0",
       "base": true,
       "max_native_zoom": 18,
       "max_zoom": 19,
       "min_native_zoom": 0,
       "min_zoom": 1,
       "name": "OpenStreetMap.Mapnik",
       "options": [
        "attribution",
        "detect_retina",
        "max_native_zoom",
        "max_zoom",
        "min_native_zoom",
        "min_zoom",
        "no_wrap",
        "tile_size",
        "tms"
       ]
      }
     },
     "982b912b723a485abc7357698565797d": {
      "model_module": "jupyter-leaflet",
      "model_module_version": "^0.14.0",
      "model_name": "LeafletTileLayerModel",
      "state": {
       "_model_module_version": "^0.14.0",
       "_view_module_version": "^0.14.0",
       "attribution": "&copy; <a href=\"http://www.openstreetmap.org/copyright\">OpenStreetMap</a> &copy; <a href=\"http://cartodb.com/attributions\">CartoDB</a>",
       "max_native_zoom": 18,
       "max_zoom": 20,
       "min_native_zoom": 0,
       "min_zoom": 1,
       "name": "CartoDB.DarkMatter",
       "options": [
        "attribution",
        "detect_retina",
        "max_native_zoom",
        "max_zoom",
        "min_native_zoom",
        "min_zoom",
        "no_wrap",
        "tile_size",
        "tms"
       ],
       "url": "http://c.basemaps.cartocdn.com/dark_all/{z}/{x}/{y}.png"
      }
     },
     "9a2a62d433ae41cea597dd392292a053": {
      "model_module": "jupyter-leaflet",
      "model_module_version": "^0.14.0",
      "model_name": "LeafletMapStyleModel",
      "state": {
       "_model_module_version": "^0.14.0",
       "cursor": "move"
      }
     },
     "9b0fbba1412e4dd3875d866a6ecdde77": {
      "model_module": "@jupyter-widgets/controls",
      "model_module_version": "1.5.0",
      "model_name": "IntSliderModel",
      "state": {
       "description": "Zoom level:",
       "layout": "IPY_MODEL_415d3e4a16494db89f47b260c4df2e67",
       "max": 20,
       "style": "IPY_MODEL_32038f0a4c5043ee930eee437de9bbfe"
      }
     },
     "9b1d6343a2264074930c97b0e876f5dc": {
      "model_module": "jupyter-leaflet",
      "model_module_version": "^0.14.0",
      "model_name": "LeafletMapStyleModel",
      "state": {
       "_model_module_version": "^0.14.0"
      }
     },
     "9dfc9ec6cfcc46d39d30dd60debcab13": {
      "model_module": "jupyter-leaflet",
      "model_module_version": "^0.14.0",
      "model_name": "LeafletMapStyleModel",
      "state": {
       "_model_module_version": "^0.14.0",
       "cursor": "move"
      }
     },
     "9e14708e8e5049328b33ccd7c431deb0": {
      "model_module": "jupyter-leaflet",
      "model_module_version": "^0.14.0",
      "model_name": "LeafletTileLayerModel",
      "state": {
       "_model_module_version": "^0.14.0",
       "_view_module_version": "^0.14.0",
       "attribution": "&copy; <a href=\"http://www.openstreetmap.org/copyright\">OpenStreetMap</a> &copy; <a href=\"http://cartodb.com/attributions\">CartoDB</a>",
       "max_native_zoom": 18,
       "max_zoom": 20,
       "min_native_zoom": 0,
       "min_zoom": 1,
       "name": "CartoDB.DarkMatter",
       "options": [
        "attribution",
        "detect_retina",
        "max_native_zoom",
        "max_zoom",
        "min_native_zoom",
        "min_zoom",
        "no_wrap",
        "tile_size",
        "tms"
       ],
       "url": "http://c.basemaps.cartocdn.com/dark_all/{z}/{x}/{y}.png"
      }
     },
     "a101f3ee8e824ac78dd4a643de85e95f": {
      "model_module": "jupyter-leaflet",
      "model_module_version": "^0.14.0",
      "model_name": "LeafletMarkerModel",
      "state": {
       "_model_module_version": "^0.14.0",
       "_view_module_version": "^0.14.0",
       "location": [
        52,
        2
       ],
       "name": "marker3",
       "options": [
        "alt",
        "draggable",
        "keyboard",
        "rise_offset",
        "rise_on_hover",
        "rotation_angle",
        "rotation_origin",
        "title",
        "z_index_offset"
       ]
      }
     },
     "a3cc86c30ccb4365a41dcf00072c0b72": {
      "model_module": "jupyter-leaflet",
      "model_module_version": "^0.14.0",
      "model_name": "LeafletMapStyleModel",
      "state": {
       "_model_module_version": "^0.14.0"
      }
     },
     "ab0323c76e164f76abad00b25cf68962": {
      "model_module": "jupyter-leaflet",
      "model_module_version": "^0.14.0",
      "model_name": "LeafletLayersControlModel",
      "state": {
       "_model_module_version": "^0.14.0",
       "_view_module_version": "^0.14.0",
       "options": [
        "position"
       ],
       "position": "topright"
      }
     },
     "abb23c98c7a441bd8737d84780c55672": {
      "model_module": "jupyter-leaflet",
      "model_module_version": "^0.14.0",
      "model_name": "LeafletAttributionControlModel",
      "state": {
       "_model_module_version": "^0.14.0",
       "_view_module_version": "^0.14.0",
       "options": [
        "position",
        "prefix"
       ],
       "position": "bottomright",
       "prefix": "ipyleaflet"
      }
     },
     "ae4dbadefa494edd88f67263ae2b581a": {
      "model_module": "jupyter-leaflet",
      "model_module_version": "^0.14.0",
      "model_name": "LeafletMarkerModel",
      "state": {
       "_model_module_version": "^0.14.0",
       "_view_module_version": "^0.14.0",
       "location": [
        29.9511,
        -90.0715
       ],
       "options": [
        "alt",
        "draggable",
        "keyboard",
        "rise_offset",
        "rise_on_hover",
        "rotation_angle",
        "rotation_origin",
        "title",
        "z_index_offset"
       ]
      }
     },
     "b37d2cf604334385acdc52a898ad7d73": {
      "model_module": "jupyter-leaflet",
      "model_module_version": "^0.14.0",
      "model_name": "LeafletLayersControlModel",
      "state": {
       "_model_module_version": "^0.14.0",
       "_view_module_version": "^0.14.0",
       "options": [
        "position"
       ],
       "position": "topright"
      }
     },
     "b5a3f6237b39440eb5cc8c1b4d81e3a1": {
      "model_module": "jupyter-leaflet",
      "model_module_version": "^0.14.0",
      "model_name": "LeafletTileLayerModel",
      "state": {
       "_model_module_version": "^0.14.0",
       "_view_module_version": "^0.14.0",
       "attribution": "Map tiles by <a href=\"https://labs.strava.com/heatmap\">Strava 2017</a>",
       "max_native_zoom": 18,
       "max_zoom": 15,
       "min_native_zoom": 0,
       "min_zoom": 1,
       "name": "Strava.Winter",
       "options": [
        "attribution",
        "detect_retina",
        "max_native_zoom",
        "max_zoom",
        "min_native_zoom",
        "min_zoom",
        "no_wrap",
        "tile_size",
        "tms"
       ],
       "url": "https://heatmap-external-a.strava.com//tiles/winter/hot/{z}/{x}/{y}.png?v=19"
      }
     },
     "bc28f3e49e2041bea530ba8ac9aee031": {
      "model_module": "jupyter-leaflet",
      "model_module_version": "^0.14.0",
      "model_name": "LeafletMarkerModel",
      "state": {
       "_model_module_version": "^0.14.0",
       "_view_module_version": "^0.14.0",
       "location": [
        29.9511,
        -90.0715
       ],
       "options": [
        "alt",
        "draggable",
        "keyboard",
        "rise_offset",
        "rise_on_hover",
        "rotation_angle",
        "rotation_origin",
        "title",
        "z_index_offset"
       ]
      }
     },
     "c286d56e715d431f9625abcccbe0ce1f": {
      "model_module": "jupyter-leaflet",
      "model_module_version": "^0.14.0",
      "model_name": "LeafletZoomControlModel",
      "state": {
       "_model_module_version": "^0.14.0",
       "_view_module_version": "^0.14.0",
       "options": [
        "position",
        "zoom_in_text",
        "zoom_in_title",
        "zoom_out_text",
        "zoom_out_title"
       ]
      }
     },
     "ca3d0143c7f74561981c8371867e235c": {
      "model_module": "jupyter-leaflet",
      "model_module_version": "^0.14.0",
      "model_name": "LeafletLayersControlModel",
      "state": {
       "_model_module_version": "^0.14.0",
       "_view_module_version": "^0.14.0",
       "options": [
        "position"
       ],
       "position": "topright"
      }
     },
     "d2c463d254474360883fccd9c5fef03a": {
      "model_module": "jupyter-leaflet",
      "model_module_version": "^0.14.0",
      "model_name": "LeafletAttributionControlModel",
      "state": {
       "_model_module_version": "^0.14.0",
       "_view_module_version": "^0.14.0",
       "options": [
        "position",
        "prefix"
       ],
       "position": "bottomright",
       "prefix": "ipyleaflet"
      }
     },
     "d5bd0286a8904c5ab6e88ea59fba5823": {
      "model_module": "@jupyter-widgets/base",
      "model_module_version": "1.2.0",
      "model_name": "LayoutModel",
      "state": {}
     },
     "d65e1da6275b4f8783d98bc7465aad8c": {
      "model_module": "jupyter-leaflet",
      "model_module_version": "^0.14.0",
      "model_name": "LeafletMapStyleModel",
      "state": {
       "_model_module_version": "^0.14.0"
      }
     },
     "d977084b16f8412bb1b2ac5b112d4e94": {
      "model_module": "jupyter-leaflet",
      "model_module_version": "^0.14.0",
      "model_name": "LeafletTileLayerModel",
      "state": {
       "_model_module_version": "^0.14.0",
       "_view_module_version": "^0.14.0",
       "base": true,
       "max_native_zoom": 18,
       "max_zoom": 19,
       "min_native_zoom": 0,
       "min_zoom": 1,
       "name": "OpenStreetMap.Mapnik",
       "options": [
        "attribution",
        "detect_retina",
        "max_native_zoom",
        "max_zoom",
        "min_native_zoom",
        "min_zoom",
        "no_wrap",
        "tile_size",
        "tms"
       ]
      }
     },
     "db1fe56f084e471e92efdf6577198780": {
      "model_module": "@jupyter-widgets/controls",
      "model_module_version": "1.5.0",
      "model_name": "SliderStyleModel",
      "state": {
       "description_width": ""
      }
     },
     "dd61a3d986cb4af79e2cce4ac44c8530": {
      "model_module": "jupyter-leaflet",
      "model_module_version": "^0.14.0",
      "model_name": "LeafletZoomControlModel",
      "state": {
       "_model_module_version": "^0.14.0",
       "_view_module_version": "^0.14.0",
       "options": [
        "position",
        "zoom_in_text",
        "zoom_in_title",
        "zoom_out_text",
        "zoom_out_title"
       ]
      }
     },
     "de81be28dc1f414a895000fab5980222": {
      "model_module": "jupyter-leaflet",
      "model_module_version": "^0.14.0",
      "model_name": "LeafletLayersControlModel",
      "state": {
       "_model_module_version": "^0.14.0",
       "_view_module_version": "^0.14.0",
       "options": [
        "position"
       ],
       "position": "topright"
      }
     },
     "ded9b30116e947b8a184a0120b72678f": {
      "model_module": "jupyter-leaflet",
      "model_module_version": "^0.14.0",
      "model_name": "LeafletAttributionControlModel",
      "state": {
       "_model_module_version": "^0.14.0",
       "_view_module_version": "^0.14.0",
       "options": [
        "position",
        "prefix"
       ],
       "position": "bottomright",
       "prefix": "ipyleaflet"
      }
     },
     "e0c2d8be485641a7b85171d9fb502061": {
      "model_module": "jupyter-leaflet",
      "model_module_version": "^0.14.0",
      "model_name": "LeafletZoomControlModel",
      "state": {
       "_model_module_version": "^0.14.0",
       "_view_module_version": "^0.14.0",
       "options": [
        "position",
        "zoom_in_text",
        "zoom_in_title",
        "zoom_out_text",
        "zoom_out_title"
       ]
      }
     },
     "e2eb0345b8a942b8879eb2f4eff482a7": {
      "model_module": "jupyter-leaflet",
      "model_module_version": "^0.14.0",
      "model_name": "LeafletWidgetControlModel",
      "state": {
       "_model_module": "jupyter-leaflet",
       "_model_module_version": "^0.14.0",
       "_view_count": null,
       "_view_module": "jupyter-leaflet",
       "_view_module_version": "^0.14.0",
       "options": [
        "position",
        "transparent_bg"
       ],
       "position": "topright",
       "widget": "IPY_MODEL_9b0fbba1412e4dd3875d866a6ecdde77"
      }
     },
     "e4fe227b6c684696890c343c42c4057d": {
      "model_module": "jupyter-leaflet",
      "model_module_version": "^0.14.0",
      "model_name": "LeafletMapStyleModel",
      "state": {
       "_model_module_version": "^0.14.0"
      }
     },
     "e55d50be8bb74d2c9b785c478a519fc6": {
      "model_module": "jupyter-leaflet",
      "model_module_version": "^0.14.0",
      "model_name": "LeafletMapStyleModel",
      "state": {
       "_model_module_version": "^0.14.0"
      }
     },
     "e5c1552eee024384a2af9def722eda6f": {
      "model_module": "@jupyter-widgets/controls",
      "model_module_version": "1.5.0",
      "model_name": "LinkModel",
      "state": {
       "source": [
        "IPY_MODEL_6d0a73337baa48fe86b3bf1b96765bc1",
        "value"
       ],
       "target": [
        "IPY_MODEL_f76911f2b5fd4caca0256e50fadaa0f4",
        "zoom"
       ]
      }
     },
     "e81df84367bf4d9784ee1fe0ba359c2c": {
      "model_module": "jupyter-leaflet",
      "model_module_version": "^0.14.0",
      "model_name": "LeafletMarkerModel",
      "state": {
       "_model_module_version": "^0.14.0",
       "_view_module_version": "^0.14.0",
       "location": [
        50,
        356
       ],
       "options": [
        "alt",
        "draggable",
        "keyboard",
        "rise_offset",
        "rise_on_hover",
        "rotation_angle",
        "rotation_origin",
        "title",
        "z_index_offset"
       ]
      }
     },
     "ea80107ab6474c399b60b3345cc93ee9": {
      "model_module": "jupyter-leaflet",
      "model_module_version": "^0.14.0",
      "model_name": "LeafletZoomControlModel",
      "state": {
       "_model_module_version": "^0.14.0",
       "_view_module_version": "^0.14.0",
       "options": [
        "position",
        "zoom_in_text",
        "zoom_in_title",
        "zoom_out_text",
        "zoom_out_title"
       ]
      }
     },
     "f1a5407affcf4713ab7ac43ea8140f14": {
      "model_module": "jupyter-leaflet",
      "model_module_version": "^0.14.0",
      "model_name": "LeafletTileLayerModel",
      "state": {
       "_model_module_version": "^0.14.0",
       "_view_module_version": "^0.14.0",
       "base": true,
       "max_native_zoom": 18,
       "max_zoom": 19,
       "min_native_zoom": 0,
       "min_zoom": 1,
       "name": "OpenStreetMap.Mapnik",
       "options": [
        "attribution",
        "detect_retina",
        "max_native_zoom",
        "max_zoom",
        "min_native_zoom",
        "min_zoom",
        "no_wrap",
        "tile_size",
        "tms"
       ]
      }
     },
     "f325c1b30bc641f08ab0584eb77fc0a4": {
      "model_module": "jupyter-leaflet",
      "model_module_version": "^0.14.0",
      "model_name": "LeafletTileLayerModel",
      "state": {
       "_model_module_version": "^0.14.0",
       "_view_module_version": "^0.14.0",
       "base": true,
       "max_native_zoom": 18,
       "max_zoom": 19,
       "min_native_zoom": 0,
       "min_zoom": 1,
       "name": "OpenStreetMap.Mapnik",
       "options": [
        "attribution",
        "detect_retina",
        "max_native_zoom",
        "max_zoom",
        "min_native_zoom",
        "min_zoom",
        "no_wrap",
        "tile_size",
        "tms"
       ]
      }
     },
     "f5ceae23931f4ad3a176eb2030079b02": {
      "model_module": "@jupyter-widgets/controls",
      "model_module_version": "1.5.0",
      "model_name": "SliderStyleModel",
      "state": {
       "description_width": ""
      }
     },
     "f76911f2b5fd4caca0256e50fadaa0f4": {
      "model_module": "jupyter-leaflet",
      "model_module_version": "^0.14.0",
      "model_name": "LeafletMapModel",
      "state": {
       "_model_module_version": "^0.14.0",
       "_view_module_version": "^0.14.0",
       "bottom": 108388,
       "center": [
        29.95969381418452,
        -90.02746582031251
       ],
       "controls": [
        "IPY_MODEL_110c155810934b83b54a78e4ef83692f",
        "IPY_MODEL_561162d5dd204a0599fac17434e3863b",
        "IPY_MODEL_848e4409a67f495e9df522a4afb0f41c"
       ],
       "default_style": "IPY_MODEL_7a4f9619e3c54bc28cd2294bff09bf3e",
       "dragging_style": "IPY_MODEL_3b3b5817d8a44d568fd4df4a0b9119e2",
       "east": -89.37652587890626,
       "fullscreen": false,
       "interpolation": "bilinear",
       "layers": [
        "IPY_MODEL_d977084b16f8412bb1b2ac5b112d4e94",
        "IPY_MODEL_bc28f3e49e2041bea530ba8ac9aee031"
       ],
       "layout": "IPY_MODEL_2ed9c5a7b4c544e09523906bbe72e74a",
       "left": 65042,
       "modisdate": "yesterday",
       "north": 30.197366063272245,
       "options": [
        "bounce_at_zoom_limits",
        "box_zoom",
        "center",
        "close_popup_on_click",
        "double_click_zoom",
        "dragging",
        "fullscreen",
        "inertia",
        "inertia_deceleration",
        "inertia_max_speed",
        "interpolation",
        "keyboard",
        "keyboard_pan_offset",
        "keyboard_zoom_offset",
        "max_zoom",
        "min_zoom",
        "scroll_wheel_zoom",
        "tap",
        "tap_tolerance",
        "touch_zoom",
        "world_copy_jump",
        "zoom",
        "zoom_animation_threshold",
        "zoom_delta",
        "zoom_snap",
        "zoom_start"
       ],
       "right": 65990,
       "south": 29.72145191669099,
       "style": "IPY_MODEL_7a4f9619e3c54bc28cd2294bff09bf3e",
       "top": 107988,
       "west": -90.67840576171875,
       "window_url": "http://localhost:8888/notebooks/comp490/sphinx/ipyleaflet_practice.ipynb",
       "zoom": 10
      }
     },
     "fbb6744b4cd3497a9a3980073deebf9d": {
      "model_module": "jupyter-leaflet",
      "model_module_version": "^0.14.0",
      "model_name": "LeafletZoomControlModel",
      "state": {
       "_model_module_version": "^0.14.0",
       "_view_module_version": "^0.14.0",
       "options": [
        "position",
        "zoom_in_text",
        "zoom_in_title",
        "zoom_out_text",
        "zoom_out_title"
       ]
      }
     },
     "ff096ff6e254468bb6be4475fb078535": {
      "model_module": "jupyter-leaflet",
      "model_module_version": "^0.14.0",
      "model_name": "LeafletTileLayerModel",
      "state": {
       "_model_module_version": "^0.14.0",
       "_view_module_version": "^0.14.0",
       "base": true,
       "max_native_zoom": 18,
       "max_zoom": 19,
       "min_native_zoom": 0,
       "min_zoom": 1,
       "name": "OpenStreetMap.Mapnik",
       "options": [
        "attribution",
        "detect_retina",
        "max_native_zoom",
        "max_zoom",
        "min_native_zoom",
        "min_zoom",
        "no_wrap",
        "tile_size",
        "tms"
       ]
      }
     },
     "ffce37ea69c041078962a524f242b812": {
      "model_module": "jupyter-leaflet",
      "model_module_version": "^0.14.0",
      "model_name": "LeafletMapModel",
      "state": {
       "_model_module_version": "^0.14.0",
       "_view_module_version": "^0.14.0",
       "bottom": 108395,
       "center": [
        29.9511,
        -90.0715
       ],
       "controls": [
        "IPY_MODEL_ea80107ab6474c399b60b3345cc93ee9",
        "IPY_MODEL_212df36fd6bd470f8d32f83a1f7d969a"
       ],
       "default_style": "IPY_MODEL_e55d50be8bb74d2c9b785c478a519fc6",
       "dragging_style": "IPY_MODEL_834045b492af4f91890d1a65f1a9dd3a",
       "east": -89.39849853515626,
       "fullscreen": false,
       "interpolation": "bilinear",
       "layers": [
        "IPY_MODEL_7684d48dadf34112aabf47561a68f27c",
        "IPY_MODEL_e81df84367bf4d9784ee1fe0ba359c2c"
       ],
       "layout": "IPY_MODEL_1f8b293b284248988b94abf5222f141d",
       "left": 64993,
       "modisdate": "yesterday",
       "north": 30.18905718468536,
       "options": [
        "bounce_at_zoom_limits",
        "box_zoom",
        "center",
        "close_popup_on_click",
        "double_click_zoom",
        "dragging",
        "fullscreen",
        "inertia",
        "inertia_deceleration",
        "inertia_max_speed",
        "interpolation",
        "keyboard",
        "keyboard_pan_offset",
        "keyboard_zoom_offset",
        "max_zoom",
        "min_zoom",
        "scroll_wheel_zoom",
        "tap",
        "tap_tolerance",
        "touch_zoom",
        "world_copy_jump",
        "zoom",
        "zoom_animation_threshold",
        "zoom_delta",
        "zoom_snap",
        "zoom_start"
       ],
       "right": 65974,
       "south": 29.71310316634132,
       "style": "IPY_MODEL_e4fe227b6c684696890c343c42c4057d",
       "top": 107995,
       "west": -90.74569702148438,
       "window_url": "http://localhost:8888/notebooks/comp490/sphinx/ipyleaflet_practice.ipynb",
       "zoom": 10
      }
     }
    },
    "version_major": 2,
    "version_minor": 0
   }
  }
 },
 "nbformat": 4,
 "nbformat_minor": 4
}
