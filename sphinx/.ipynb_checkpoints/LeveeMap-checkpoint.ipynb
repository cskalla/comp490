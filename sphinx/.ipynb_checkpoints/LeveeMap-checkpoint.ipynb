{
 "cells": [
  {
   "cell_type": "code",
   "execution_count": 1,
   "metadata": {},
   "outputs": [
    {
     "data": {
      "application/vnd.jupyter.widget-view+json": {
       "model_id": "1c56697d70af4bac85eb2503223d802a",
       "version_major": 2,
       "version_minor": 0
      },
      "text/plain": [
       "Map(center=[29.951065, -90.071533], controls=(ZoomControl(options=['position', 'zoom_in_text', 'zoom_in_title'…"
      ]
     },
     "metadata": {},
     "output_type": "display_data"
    }
   ],
   "source": [
    "from ipyleaflet import Map, Polyline, DrawControl\n",
    "\n",
    "lines = Polyline(\n",
    "    locations=[\n",
    "        [[29.955529, -90.388598],\n",
    "        [29.9840, -90.394092],\n",
    "        [29.999544, -90.427051],\n",
    "        [30.009447, -90.394214],\n",
    "        [29.988708, -90.370267],\n",
    "        [29.974066, -90.306878],\n",
    "        [29.9963685, -90.2855627],\n",
    "        [30.004895, -90.279379],\n",
    "        [30.052922, -90.280023],\n",
    "        [30.019091, -90.182326],\n",
    "        [30.031174, -90.037175],\n",
    "        [30.046881, -89.986930],\n",
    "        [30.075872, -89.939477],\n",
    "        [30.147105, -89.879463],\n",
    "        [30.075872, -89.852945],\n",
    "        [30.075872, -89.854340],\n",
    "        [30.045673, -89.827822],\n",
    "        [30.014257, -89.900398],\n",
    "        [29.991813, -89.908633],\n",
    "        [29.885900, -89.758945],\n",
    "        [29.854937, -89.778171],\n",
    "        [29.854937, -89.904513]],\n",
    "        [[29.985271, -90.021822],\n",
    "         [29.942440, -89.910586],\n",
    "         [29.898401, -89.876254],\n",
    "        [29.880541, -89.876254]]\n",
    "    ],\n",
    "    color=\"green\" ,\n",
    "    fill=False\n",
    ")\n",
    "\n",
    "draw_control = DrawControl()\n",
    "draw_control.polyline =  {\n",
    "    \"shapeOptions\": {\n",
    "        \"color\": \"#6bc2e5\",\n",
    "        \"weight\": 8,\n",
    "        \"opacity\": 1.0\n",
    "    }\n",
    "}\n",
    "draw_control.polygon = {\n",
    "    \"shapeOptions\": {\n",
    "        \"fillColor\": \"#6be5c3\",\n",
    "        \"color\": \"#6be5c3\",\n",
    "        \"fillOpacity\": 1.0\n",
    "    },\n",
    "    \"drawError\": {\n",
    "        \"color\": \"#dd253b\",\n",
    "        \"message\": \"Oups!\"\n",
    "    },\n",
    "    \"allowIntersection\": False\n",
    "}\n",
    "draw_control.circle = {\n",
    "    \"shapeOptions\": {\n",
    "        \"fillColor\": \"#efed69\",\n",
    "        \"color\": \"#efed69\",\n",
    "        \"fillOpacity\": 1.0\n",
    "    }\n",
    "}\n",
    "draw_control.rectangle = {\n",
    "    \"shapeOptions\": {\n",
    "        \"fillColor\": \"#fca45d\",\n",
    "        \"color\": \"#fca45d\",\n",
    "        \"fillOpacity\": 1.0\n",
    "    }\n",
    "}\n",
    "\n",
    "m = Map(center = (29.951065, -90.071533), zoom =10)\n",
    "m.add_control(draw_control)\n",
    "m.add_layer(lines)\n",
    "m"
   ]
  },
  {
   "cell_type": "code",
   "execution_count": null,
   "metadata": {},
   "outputs": [],
   "source": []
  },
  {
   "cell_type": "code",
   "execution_count": null,
   "metadata": {},
   "outputs": [],
   "source": []
  }
 ],
 "metadata": {
  "kernelspec": {
   "display_name": "Python 3",
   "language": "python",
   "name": "python3"
  },
  "language_info": {
   "codemirror_mode": {
    "name": "ipython",
    "version": 3
   },
   "file_extension": ".py",
   "mimetype": "text/x-python",
   "name": "python",
   "nbconvert_exporter": "python",
   "pygments_lexer": "ipython3",
   "version": "3.8.5"
  }
 },
 "nbformat": 4,
 "nbformat_minor": 5
}
