{
 "cells": [
  {
   "cell_type": "code",
   "execution_count": 1,
   "metadata": {},
   "outputs": [],
   "source": [
    "import os\n",
    "import json\n",
    "import random\n",
    "import requests\n",
    "import random\n",
    "\n",
    "from ipyleaflet import Map, GeoJSON\n",
    "\n",
    "import ipyleaflet\n",
    "import json\n",
    "import pandas as pd\n",
    "import os\n",
    "import requests\n",
    "from ipywidgets import link, FloatSlider, HTML\n",
    "from branca.colormap import linear\n",
    "from ipyleaflet import Choropleth, Map, Popup"
   ]
  },
  {
   "cell_type": "markdown",
   "metadata": {},
   "source": [
    "## Two layer choropleth maps"
   ]
  },
  {
   "cell_type": "markdown",
   "metadata": {},
   "source": [
    "Sections: \n",
    "1) Voting districts\n",
    "2) Planning districts\n",
    "\n",
    "Values:\n"
   ]
  },
  {
   "cell_type": "markdown",
   "metadata": {},
   "source": [
    "### Voting districts"
   ]
  },
  {
   "cell_type": "code",
   "execution_count": 7,
   "metadata": {},
   "outputs": [
    {
     "data": {
      "application/vnd.jupyter.widget-view+json": {
       "model_id": "0a7189e1b8fd40ab8a7891158db26c9c",
       "version_major": 2,
       "version_minor": 0
      },
      "text/plain": [
       "Map(center=[29.9511, -90.0715], controls=(ZoomControl(options=['position', 'zoom_in_text', 'zoom_in_title', 'z…"
      ]
     },
     "metadata": {},
     "output_type": "display_data"
    }
   ],
   "source": [
    "#load in voting district json\n",
    "def load_data(url, filename, file_type):\n",
    "    r = requests.get(url)\n",
    "    with open(filename, 'w') as f:\n",
    "        f.write(r.content.decode(\"utf-8\"))\n",
    "    with open(filename, 'r') as f:\n",
    "        return file_type(f)\n",
    "    \n",
    "voting_districts_json = load_data(\n",
    "    'https://opendata.arcgis.com/datasets/ca0f4261673541d798551f5cddc54bd6_0.geojson',\n",
    "    'data_json',\n",
    "     json.load) #json.loads turns geo_json into a dict\n",
    "#voting_dis_json\n",
    "\n",
    "#json formating\n",
    "for d in voting_districts_json[\"features\"]:\n",
    "    d[\"PRECINCTID\"] = d[\"properties\"][\"PRECINCTID\"]\n",
    "    \n",
    "def random_color(feature):\n",
    "    return {\n",
    "        'color': 'black',\n",
    "        'fillColor': random.choice(['red', 'yellow', 'green', 'orange']),\n",
    "    }\n",
    "#add empty layer to map\n",
    "voting_districts_map = Map(center=(29.9511, -90.0715), zoom=11)\n",
    "\n",
    "voting_districts_layer = GeoJSON(\n",
    "    data=voting_districts_json,\n",
    "    style={\n",
    "        'opacity': 1, 'dashArray': '9', 'fillOpacity': 0.1, 'weight': 1\n",
    "    },\n",
    "    hover_style={\n",
    "        'color': 'white', 'dashArray': '0', 'fillOpacity': 0.5\n",
    "    },\n",
    "    style_callback=random_color\n",
    ")\n",
    "voting_districts_map.add_layer(voting_districts_layer)\n",
    "\n",
    "voting_districts_map"
   ]
  },
  {
   "cell_type": "markdown",
   "metadata": {},
   "source": [
    "### Planning districts"
   ]
  },
  {
   "cell_type": "code",
   "execution_count": 2,
   "metadata": {},
   "outputs": [],
   "source": [
    "#https://gis.nola.gov/arcgis/rest/services/Planning/Planning_Districts/MapServer/0?f=pjson\n",
    "\n",
    "#data loading function\n",
    "def load_data(url, filename, file_type):\n",
    "    r = requests.get(url)\n",
    "    with open(filename, 'w') as f:\n",
    "        f.write(r.content.decode(\"utf-8\"))\n",
    "    with open(filename, 'r') as f:\n",
    "        return file_type(f)\n",
    "    \n",
    "planning_districts_json = load_data(\n",
    "    'https://opendata.arcgis.com/datasets/878cc847e4b6412993c929138333f119_0.geojson',\n",
    "    'orleans_planning_district.json',\n",
    "     json.load) #json.loads turns geo_json into a dict\n",
    "#planning_districts_json"
   ]
  },
  {
   "cell_type": "code",
   "execution_count": 12,
   "metadata": {},
   "outputs": [
    {
     "data": {
      "application/vnd.jupyter.widget-view+json": {
       "model_id": "4575e3b687d44767ab36305d501fde5d",
       "version_major": 2,
       "version_minor": 0
      },
      "text/plain": [
       "Map(center=[29.9511, -90.0715], controls=(ZoomControl(options=['position', 'zoom_in_text', 'zoom_in_title', 'z…"
      ]
     },
     "metadata": {},
     "output_type": "display_data"
    }
   ],
   "source": [
    "def random_color(feature):\n",
    "    return {\n",
    "        'color': 'black',\n",
    "        'fillColor': random.choice(['red', 'yellow', 'green', 'orange']),\n",
    "    }\n",
    "\n",
    "planning_district_map = Map(center=(29.9511, -90.0715), zoom=11)\n",
    "\n",
    "planning_district_layer = GeoJSON(\n",
    "    data=planning_districts_json,\n",
    "    style={\n",
    "        'opacity': 1, 'dashArray': '9', 'fillOpacity': 0.1, 'weight': 1\n",
    "    },\n",
    "    hover_style={\n",
    "        'color': 'white', 'dashArray': '0', 'fillOpacity': 0.5, \n",
    "    },\n",
    "    style_callback=random_color\n",
    ")\n",
    "planning_district_map.add_layer(planning_district_layer)\n",
    "\n",
    "planning_district_map"
   ]
  },
  {
   "cell_type": "markdown",
   "metadata": {},
   "source": [
    "### Overlay the voting districts and planning districts layers"
   ]
  },
  {
   "cell_type": "markdown",
   "metadata": {},
   "source": [
    "NOTE: the last added layer is the one that is highlighted on hover"
   ]
  },
  {
   "cell_type": "code",
   "execution_count": 23,
   "metadata": {},
   "outputs": [
    {
     "data": {
      "application/vnd.jupyter.widget-view+json": {
       "model_id": "59632fce0b9d4308817f7a41690def5c",
       "version_major": 2,
       "version_minor": 0
      },
      "text/plain": [
       "Map(center=[29.9511, -90.0715], controls=(ZoomControl(options=['position', 'zoom_in_text', 'zoom_in_title', 'z…"
      ]
     },
     "metadata": {},
     "output_type": "display_data"
    }
   ],
   "source": [
    "#new map\n",
    "overlay_map = Map(center=(29.9511, -90.0715), zoom=11)\n",
    "overlay_map.add_layer(voting_districts_layer)\n",
    "overlay_map.add_layer(planning_district_layer)\n",
    "overlay_map"
   ]
  },
  {
   "cell_type": "markdown",
   "metadata": {},
   "source": [
    "### Remake chorpleth map with less lines"
   ]
  },
  {
   "cell_type": "markdown",
   "metadata": {},
   "source": [
    "Voting districts - black outlines, red fill ----- Planning districts - grey outlines, blue fill"
   ]
  },
  {
   "cell_type": "code",
   "execution_count": 22,
   "metadata": {},
   "outputs": [
    {
     "data": {
      "application/vnd.jupyter.widget-view+json": {
       "model_id": "bb5469590af04c32908d53dbc9fd7e85",
       "version_major": 2,
       "version_minor": 0
      },
      "text/plain": [
       "Map(center=[29.9511, -90.0715], controls=(ZoomControl(options=['position', 'zoom_in_text', 'zoom_in_title', 'z…"
      ]
     },
     "metadata": {},
     "output_type": "display_data"
    }
   ],
   "source": [
    "#new map\n",
    "overlay_map2 = Map(center=(29.9511, -90.0715), zoom=11)\n",
    "#planning district line layer\n",
    "planning_district_layer2 = GeoJSON(\n",
    "    data=planning_districts_json,\n",
    "    style={\n",
    "        'opacity': 1, 'dashArray': '0', 'fillOpacity': 0.0, 'weight': 1, 'color':'black'\n",
    "    },\n",
    "    hover_style={\n",
    "        'color': 'white', 'dashArray': '0', 'fillOpacity': 0.5, 'fillColor': 'red'\n",
    "    })\n",
    "   \n",
    "overlay_map2.add_layer(planning_district_layer2)\n",
    "\n",
    "#voting district line layer\n",
    "\n",
    "voting_districts_layer2 = GeoJSON(\n",
    "    data=voting_districts_json,\n",
    "    style={\n",
    "        'opacity': 1, 'dashArray': '0', 'fillOpacity': 0.0, 'weight': 1, 'color': 'grey'\n",
    "    },\n",
    "    hover_style={\n",
    "        'color': 'white', 'dashArray': '0', 'fillOpacity': 0.5, 'fillColor': 'blue'\n",
    "    })\n",
    "overlay_map2.add_layer(voting_districts_layer2)\n",
    "\n",
    "\n",
    "overlay_map2"
   ]
  },
  {
   "cell_type": "markdown",
   "metadata": {},
   "source": [
    "### Remake choropleth map with overlapping colors"
   ]
  },
  {
   "cell_type": "code",
   "execution_count": 28,
   "metadata": {},
   "outputs": [
    {
     "data": {
      "application/vnd.jupyter.widget-view+json": {
       "model_id": "1ce3a9f9a90c480d95a9f456e876583d",
       "version_major": 2,
       "version_minor": 0
      },
      "text/plain": [
       "Map(center=[29.9511, -90.0715], controls=(ZoomControl(options=['position', 'zoom_in_text', 'zoom_in_title', 'z…"
      ]
     },
     "metadata": {},
     "output_type": "display_data"
    }
   ],
   "source": [
    "#new map\n",
    "overlay_map3 = Map(center=(29.9511, -90.0715), zoom=11)\n",
    "#planning district line layer\n",
    "planning_district_layer2 = GeoJSON(\n",
    "    data=planning_districts_json,\n",
    "    style={\n",
    "        'opacity': 1, 'dashArray': '0', 'fillOpacity': 0.1, 'weight': 1, 'color':'black', 'fillColor':'blue'\n",
    "    })\n",
    "   \n",
    "overlay_map3.add_layer(planning_district_layer2)\n",
    "\n",
    "#voting district line layer\n",
    "\n",
    "voting_districts_layer2 = GeoJSON(\n",
    "    data=voting_districts_json,\n",
    "    style={\n",
    "        'opacity': 1, 'dashArray': '0', 'fillOpacity': 0.1, 'weight': 1, 'color': 'grey', 'fillColor':'red'\n",
    "    })\n",
    "overlay_map3.add_layer(voting_districts_layer2)\n",
    "\n",
    "\n",
    "overlay_map3"
   ]
  },
  {
   "cell_type": "markdown",
   "metadata": {},
   "source": [
    "### Add income color scale"
   ]
  },
  {
   "cell_type": "code",
   "execution_count": 34,
   "metadata": {},
   "outputs": [
    {
     "data": {
      "application/vnd.jupyter.widget-view+json": {
       "model_id": "e66046bce32e4729bb80be561bdffc33",
       "version_major": 2,
       "version_minor": 0
      },
      "text/plain": [
       "Map(center=[29.9511, -90.0715], controls=(ZoomControl(options=['position', 'zoom_in_text', 'zoom_in_title', 'z…"
      ]
     },
     "metadata": {},
     "output_type": "display_data"
    }
   ],
   "source": [
    "#load in demographic data from csv file\n",
    "with open('DECENNIALPL2020.P1_data_with_overlays_2021-10-05T211037.csv', 'r') as f:\n",
    "    race = pd.read_csv(f, header=0)\n",
    "#clean data\n",
    "#total population\n",
    "race['P1_001N'] = pd.to_numeric(race['P1_001N'],errors='coerce')\n",
    "#number population black\n",
    "race['P1_004N'] = pd.to_numeric(race['P1_004N'],errors='coerce')\n",
    "#percentage black\n",
    "race['%_Black'] = race['P1_004N']/race['P1_001N'] *100\n",
    "race = race.dropna(subset=['%_Black'], axis = 0)\n",
    "race = race.join(race['NAME'].str.split(',', 1, expand=True).rename(columns={0:'Precinct_ID', 1:'B'}))\n",
    "#create dictionary: key = , value = \n",
    "mapping =  dict(zip(race['Precinct_ID'][0:352].tolist(), race['%_Black'].tolist()))\n",
    "voting_district_race_layer = Choropleth(\n",
    "                    geo_data=voting_districts_json,\n",
    "                    choro_data=mapping,\n",
    "                    colormap=linear.Reds_05,\n",
    "                    #style={'fillOpacity': 1.0, \"color\":\"black\"},\n",
    "                    key_on= 'PRECINCTID',\n",
    "                    style={'opacity': 0.5, 'dashArray': '0', 'color': 'grey', 'fillOpacity': 0.5, 'weight': 1})\n",
    "                    \n",
    "\n",
    "color_map1 = Map(center=(29.9511, -90.0715), zoom=11)\n",
    "color_map1.add_layer(voting_district_race_layer)\n",
    "color_map1.add_layer(planning_district_layer2)\n",
    "color_map1.layout.height=\"700px\"\n",
    "color_map1"
   ]
  },
  {
   "cell_type": "code",
   "execution_count": null,
   "metadata": {},
   "outputs": [],
   "source": []
  }
 ],
 "metadata": {
  "kernelspec": {
   "display_name": "Python 3",
   "language": "python",
   "name": "python3"
  },
  "language_info": {
   "codemirror_mode": {
    "name": "ipython",
    "version": 3
   },
   "file_extension": ".py",
   "mimetype": "text/x-python",
   "name": "python",
   "nbconvert_exporter": "python",
   "pygments_lexer": "ipython3",
   "version": "3.8.5"
  }
 },
 "nbformat": 4,
 "nbformat_minor": 4
}
