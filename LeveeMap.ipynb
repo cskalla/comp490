{
 "cells": [
  {
   "cell_type": "code",
   "execution_count": 3,
   "metadata": {},
   "outputs": [
    {
     "data": {
      "application/vnd.jupyter.widget-view+json": {
       "model_id": "4766988ae7a142879ced95cb050a37e9",
       "version_major": 2,
       "version_minor": 0
      },
      "text/plain": [
       "Map(center=[29.951065, -90.071533], controls=(ZoomControl(options=['position', 'zoom_in_text', 'zoom_in_title'…"
      ]
     },
     "metadata": {},
     "output_type": "display_data"
    }
   ],
   "source": [
    "from ipyleaflet import Map, Polyline, DrawControl\n",
    "\n",
    "lines = Polyline(\n",
    "    locations=[\n",
    "        [[29.955529, -90.388598],\n",
    "        [29.9840, -90.394092],\n",
    "        [29.999544, -90.427051],\n",
    "        [30.009447, -90.394214],\n",
    "        [29.988708, -90.370267],\n",
    "        [29.974066, -90.306878],\n",
    "        [29.9963685, -90.2855627],\n",
    "        [30.004895, -90.279379],\n",
    "        [30.052922, -90.280023],\n",
    "        [30.019091, -90.182326],\n",
    "        [30.031174, -90.037175],\n",
    "        [30.046881, -89.986930],\n",
    "        [30.075872, -89.939477],\n",
    "        [30.147105, -89.879463],\n",
    "        [30.075872, -89.852945],\n",
    "        [30.075872, -89.854340],\n",
    "        [30.045673, -89.827822],\n",
    "        [30.014257, -89.900398],\n",
    "        [29.991813, -89.908633],\n",
    "        [29.885900, -89.758945],\n",
    "        [29.854937, -89.778171],\n",
    "        [29.854937, -89.904513]],\n",
    "        [[29.985271, -90.021822],\n",
    "         [29.942440, -89.910586],\n",
    "         [29.898401, -89.876254],\n",
    "        [29.880541, -89.876254]]\n",
    "    ],\n",
    "    color=\"green\" ,\n",
    "    fill=False\n",
    ")\n",
    "\n",
    "draw_control = DrawControl()\n",
    "draw_control.polyline =  {\n",
    "    \"shapeOptions\": {\n",
    "        \"color\": \"#6bc2e5\",\n",
    "        \"weight\": 8,\n",
    "        \"opacity\": 1.0\n",
    "    }\n",
    "}\n",
    "draw_control.polygon = {\n",
    "    \"shapeOptions\": {\n",
    "        \"fillColor\": \"#6be5c3\",\n",
    "        \"color\": \"#6be5c3\",\n",
    "        \"fillOpacity\": 1.0\n",
    "    },\n",
    "    \"drawError\": {\n",
    "        \"color\": \"#dd253b\",\n",
    "        \"message\": \"Oups!\"\n",
    "    },\n",
    "    \"allowIntersection\": False\n",
    "}\n",
    "draw_control.circle = {\n",
    "    \"shapeOptions\": {\n",
    "        \"fillColor\": \"#efed69\",\n",
    "        \"color\": \"#efed69\",\n",
    "        \"fillOpacity\": 1.0\n",
    "    }\n",
    "}\n",
    "draw_control.rectangle = {\n",
    "    \"shapeOptions\": {\n",
    "        \"fillColor\": \"#fca45d\",\n",
    "        \"color\": \"#fca45d\",\n",
    "        \"fillOpacity\": 1.0\n",
    "    }\n",
    "}\n",
    "\n",
    "m = Map(center = (29.951065, -90.071533), zoom =10)\n",
    "m.add_control(draw_control)\n",
    "m.add_layer(lines)\n",
    "m"
   ]
  },
  {
   "cell_type": "code",
   "execution_count": null,
   "metadata": {},
   "outputs": [],
   "source": []
  }
 ],
 "metadata": {
  "kernelspec": {
   "display_name": "Python 3",
   "language": "python",
   "name": "python3"
  },
  "language_info": {
   "codemirror_mode": {
    "name": "ipython",
    "version": 3
   },
   "file_extension": ".py",
   "mimetype": "text/x-python",
   "name": "python",
   "nbconvert_exporter": "python",
   "pygments_lexer": "ipython3",
   "version": "3.8.5"
  },
  "widgets": {
   "application/vnd.jupyter.widget-state+json": {
    "state": {
     "23b07dddcf3e4bcc9038957dc6885232": {
      "model_module": "@jupyter-widgets/base",
      "model_module_version": "1.2.0",
      "model_name": "LayoutModel",
      "state": {}
     },
     "279e721abbed48afb8e19047ec24e286": {
      "model_module": "jupyter-leaflet",
      "model_module_version": "^0.14.0",
      "model_name": "LeafletMapStyleModel",
      "state": {
       "_model_module_version": "^0.14.0"
      }
     },
     "2e932a3c57174a02baf7d660e4e9eb17": {
      "model_module": "jupyter-leaflet",
      "model_module_version": "^0.14.0",
      "model_name": "LeafletPolylineModel",
      "state": {
       "_model_module_version": "^0.14.0",
       "_view_module_version": "^0.14.0",
       "color": "green",
       "draggable": false,
       "fill": false,
       "locations": [
        [
         [
          30.009447,
          -90.394214
         ],
         [
          29.988708,
          -90.370267
         ],
         [
          29.974066,
          -90.306878
         ],
         [
          29.9963685,
          -90.2855627
         ],
         [
          30.004895,
          -90.279379
         ],
         [
          30.052922,
          -90.280023
         ],
         [
          30.019091,
          -90.182326
         ],
         [
          30.031174,
          -90.037175
         ],
         [
          30.046881,
          -89.98693
         ],
         [
          30.075872,
          -89.939477
         ],
         [
          30.147105,
          -89.879463
         ],
         [
          30.075872,
          -89.852945
         ],
         [
          30.075872,
          -89.85434
         ],
         [
          30.045673,
          -89.827822
         ],
         [
          30.014257,
          -89.900398
         ]
        ],
        [
         [
          29.985271,
          -90.021822
         ],
         [
          29.94244,
          -89.910586
         ],
         [
          29.898401,
          -89.876254
         ],
         [
          29.880541,
          -89.876254
         ]
        ]
       ],
       "options": [
        "color",
        "dash_array",
        "draggable",
        "fill",
        "fill_color",
        "fill_opacity",
        "line_cap",
        "line_join",
        "no_clip",
        "opacity",
        "pointer_events",
        "smooth_factor",
        "stroke",
        "transform",
        "weight"
       ],
       "rotation": true,
       "scaling": true,
       "transform": false,
       "uniform_scaling": false
      }
     },
     "4766988ae7a142879ced95cb050a37e9": {
      "model_module": "jupyter-leaflet",
      "model_module_version": "^0.14.0",
      "model_name": "LeafletMapModel",
      "state": {
       "_model_module_version": "^0.14.0",
       "_view_module_version": "^0.14.0",
       "bottom": 108395,
       "center": [
        29.951065,
        -90.071533
       ],
       "controls": [
        "IPY_MODEL_ff6fe2d0b9074bef9202c1f449b3597a",
        "IPY_MODEL_9642ff3fbd4e443a896b2cdb3acde742",
        "IPY_MODEL_b36e837cf1284a558c9aad28dbc5cfaa"
       ],
       "default_style": "IPY_MODEL_279e721abbed48afb8e19047ec24e286",
       "dragging_style": "IPY_MODEL_e8885ce55c464a2c9fe8255d94e6c614",
       "east": -89.39849853515626,
       "fullscreen": false,
       "interpolation": "bilinear",
       "layers": [
        "IPY_MODEL_a1585c713ed64204ad0a018f27a58f05",
        "IPY_MODEL_70772d909dbd4128bdda851de84f9e9f"
       ],
       "layout": "IPY_MODEL_23b07dddcf3e4bcc9038957dc6885232",
       "left": 64993,
       "modisdate": "yesterday",
       "north": 30.18905718468536,
       "options": [
        "bounce_at_zoom_limits",
        "box_zoom",
        "center",
        "close_popup_on_click",
        "double_click_zoom",
        "dragging",
        "fullscreen",
        "inertia",
        "inertia_deceleration",
        "inertia_max_speed",
        "interpolation",
        "keyboard",
        "keyboard_pan_offset",
        "keyboard_zoom_offset",
        "max_zoom",
        "min_zoom",
        "scroll_wheel_zoom",
        "tap",
        "tap_tolerance",
        "touch_zoom",
        "world_copy_jump",
        "zoom",
        "zoom_animation_threshold",
        "zoom_delta",
        "zoom_snap",
        "zoom_start"
       ],
       "right": 65974,
       "south": 29.71310316634132,
       "style": "IPY_MODEL_f4d7e355be3a4acd9d04fb4a751c7d7b",
       "top": 107995,
       "west": -90.74569702148438,
       "window_url": "http://localhost:8888/notebooks/Documents/GitHub/comp490/sphinx/LeveeMap.ipynb#",
       "zoom": 10
      }
     },
     "5975b7e25d9d4531af250d830c48d8bd": {
      "model_module": "jupyter-leaflet",
      "model_module_version": "^0.14.0",
      "model_name": "LeafletMapStyleModel",
      "state": {
       "_model_module_version": "^0.14.0"
      }
     },
     "70772d909dbd4128bdda851de84f9e9f": {
      "model_module": "jupyter-leaflet",
      "model_module_version": "^0.14.0",
      "model_name": "LeafletPolylineModel",
      "state": {
       "_model_module_version": "^0.14.0",
       "_view_module_version": "^0.14.0",
       "color": "green",
       "draggable": false,
       "fill": false,
       "locations": [
        [
         [
          29.955529,
          -90.388598
         ],
         [
          29.984,
          -90.394092
         ],
         [
          29.999544,
          -90.427051
         ],
         [
          30.009447,
          -90.394214
         ],
         [
          29.988708,
          -90.370267
         ],
         [
          29.974066,
          -90.306878
         ],
         [
          29.9963685,
          -90.2855627
         ],
         [
          30.004895,
          -90.279379
         ],
         [
          30.052922,
          -90.280023
         ],
         [
          30.019091,
          -90.182326
         ],
         [
          30.031174,
          -90.037175
         ],
         [
          30.046881,
          -89.98693
         ],
         [
          30.075872,
          -89.939477
         ],
         [
          30.147105,
          -89.879463
         ],
         [
          30.075872,
          -89.852945
         ],
         [
          30.075872,
          -89.85434
         ],
         [
          30.045673,
          -89.827822
         ],
         [
          30.014257,
          -89.900398
         ],
         [
          29.991813,
          -89.908633
         ],
         [
          29.8859,
          -89.758945
         ],
         [
          29.854937,
          -89.778171
         ],
         [
          29.854937,
          -89.904513
         ]
        ],
        [
         [
          29.985271,
          -90.021822
         ],
         [
          29.94244,
          -89.910586
         ],
         [
          29.898401,
          -89.876254
         ],
         [
          29.880541,
          -89.876254
         ]
        ]
       ],
       "options": [
        "color",
        "dash_array",
        "draggable",
        "fill",
        "fill_color",
        "fill_opacity",
        "line_cap",
        "line_join",
        "no_clip",
        "opacity",
        "pointer_events",
        "smooth_factor",
        "stroke",
        "transform",
        "weight"
       ],
       "rotation": true,
       "scaling": true,
       "transform": false,
       "uniform_scaling": false
      }
     },
     "819c4f2f6a0c40eb86561a4df1694b47": {
      "model_module": "jupyter-leaflet",
      "model_module_version": "^0.14.0",
      "model_name": "LeafletZoomControlModel",
      "state": {
       "_model_module_version": "^0.14.0",
       "_view_module_version": "^0.14.0",
       "options": [
        "position",
        "zoom_in_text",
        "zoom_in_title",
        "zoom_out_text",
        "zoom_out_title"
       ]
      }
     },
     "8b561692b49149a8add5f0b6f9d89290": {
      "model_module": "jupyter-leaflet",
      "model_module_version": "^0.14.0",
      "model_name": "LeafletMapStyleModel",
      "state": {
       "_model_module_version": "^0.14.0"
      }
     },
     "8ddfda7618fa49d297f695d693c69e0a": {
      "model_module": "jupyter-leaflet",
      "model_module_version": "^0.14.0",
      "model_name": "LeafletMapModel",
      "state": {
       "_model_module_version": "^0.14.0",
       "_view_module_version": "^0.14.0",
       "bottom": 108395,
       "center": [
        29.951065,
        -90.071533
       ],
       "controls": [
        "IPY_MODEL_819c4f2f6a0c40eb86561a4df1694b47",
        "IPY_MODEL_fe2610ef34a14744b7091bab98c1fdd8",
        "IPY_MODEL_c41fae2cbec44c13849ef2bcceddcb7e"
       ],
       "default_style": "IPY_MODEL_8b561692b49149a8add5f0b6f9d89290",
       "dragging_style": "IPY_MODEL_d3cad9b915964c96aa55a6fdebd225cb",
       "east": -89.39849853515626,
       "fullscreen": false,
       "interpolation": "bilinear",
       "layers": [
        "IPY_MODEL_a7413c5efa19427a8501e4babb1d9e09",
        "IPY_MODEL_2e932a3c57174a02baf7d660e4e9eb17"
       ],
       "layout": "IPY_MODEL_9499f02516094b448855fcea62c8ff42",
       "left": 64993,
       "modisdate": "yesterday",
       "north": 30.18905718468536,
       "options": [
        "bounce_at_zoom_limits",
        "box_zoom",
        "center",
        "close_popup_on_click",
        "double_click_zoom",
        "dragging",
        "fullscreen",
        "inertia",
        "inertia_deceleration",
        "inertia_max_speed",
        "interpolation",
        "keyboard",
        "keyboard_pan_offset",
        "keyboard_zoom_offset",
        "max_zoom",
        "min_zoom",
        "scroll_wheel_zoom",
        "tap",
        "tap_tolerance",
        "touch_zoom",
        "world_copy_jump",
        "zoom",
        "zoom_animation_threshold",
        "zoom_delta",
        "zoom_snap",
        "zoom_start"
       ],
       "right": 65974,
       "south": 29.71310316634132,
       "style": "IPY_MODEL_5975b7e25d9d4531af250d830c48d8bd",
       "top": 107995,
       "west": -90.74569702148438,
       "window_url": "http://localhost:8888/notebooks/Documents/GitHub/comp490/sphinx/LeveeMap.ipynb#",
       "zoom": 10
      }
     },
     "9499f02516094b448855fcea62c8ff42": {
      "model_module": "@jupyter-widgets/base",
      "model_module_version": "1.2.0",
      "model_name": "LayoutModel",
      "state": {}
     },
     "9642ff3fbd4e443a896b2cdb3acde742": {
      "model_module": "jupyter-leaflet",
      "model_module_version": "^0.14.0",
      "model_name": "LeafletAttributionControlModel",
      "state": {
       "_model_module_version": "^0.14.0",
       "_view_module_version": "^0.14.0",
       "options": [
        "position",
        "prefix"
       ],
       "position": "bottomright",
       "prefix": "ipyleaflet"
      }
     },
     "a1585c713ed64204ad0a018f27a58f05": {
      "model_module": "jupyter-leaflet",
      "model_module_version": "^0.14.0",
      "model_name": "LeafletTileLayerModel",
      "state": {
       "_model_module_version": "^0.14.0",
       "_view_module_version": "^0.14.0",
       "base": true,
       "max_native_zoom": 18,
       "max_zoom": 19,
       "min_native_zoom": 0,
       "min_zoom": 1,
       "options": [
        "attribution",
        "detect_retina",
        "max_native_zoom",
        "max_zoom",
        "min_native_zoom",
        "min_zoom",
        "no_wrap",
        "tile_size",
        "tms"
       ]
      }
     },
     "a7413c5efa19427a8501e4babb1d9e09": {
      "model_module": "jupyter-leaflet",
      "model_module_version": "^0.14.0",
      "model_name": "LeafletTileLayerModel",
      "state": {
       "_model_module_version": "^0.14.0",
       "_view_module_version": "^0.14.0",
       "base": true,
       "max_native_zoom": 18,
       "max_zoom": 19,
       "min_native_zoom": 0,
       "min_zoom": 1,
       "options": [
        "attribution",
        "detect_retina",
        "max_native_zoom",
        "max_zoom",
        "min_native_zoom",
        "min_zoom",
        "no_wrap",
        "tile_size",
        "tms"
       ]
      }
     },
     "b36e837cf1284a558c9aad28dbc5cfaa": {
      "model_module": "jupyter-leaflet",
      "model_module_version": "^0.14.0",
      "model_name": "LeafletDrawControlModel",
      "state": {
       "_model_module_version": "^0.14.0",
       "_view_module_version": "^0.14.0",
       "circle": {
        "shapeOptions": {
         "color": "#efed69",
         "fillColor": "#efed69",
         "fillOpacity": 1
        }
       },
       "circlemarker": {
        "shapeOptions": {}
       },
       "options": [
        "position"
       ],
       "polygon": {
        "allowIntersection": false,
        "drawError": {
         "color": "#dd253b",
         "message": "Oups!"
        },
        "shapeOptions": {
         "color": "#6be5c3",
         "fillColor": "#6be5c3",
         "fillOpacity": 1
        }
       },
       "polyline": {
        "shapeOptions": {
         "color": "#6bc2e5",
         "opacity": 1,
         "weight": 8
        }
       },
       "rectangle": {
        "shapeOptions": {
         "color": "#fca45d",
         "fillColor": "#fca45d",
         "fillOpacity": 1
        }
       }
      }
     },
     "c41fae2cbec44c13849ef2bcceddcb7e": {
      "model_module": "jupyter-leaflet",
      "model_module_version": "^0.14.0",
      "model_name": "LeafletDrawControlModel",
      "state": {
       "_model_module_version": "^0.14.0",
       "_view_module_version": "^0.14.0",
       "circle": {
        "shapeOptions": {
         "color": "#efed69",
         "fillColor": "#efed69",
         "fillOpacity": 1
        }
       },
       "circlemarker": {
        "shapeOptions": {}
       },
       "options": [
        "position"
       ],
       "polygon": {
        "allowIntersection": false,
        "drawError": {
         "color": "#dd253b",
         "message": "Oups!"
        },
        "shapeOptions": {
         "color": "#6be5c3",
         "fillColor": "#6be5c3",
         "fillOpacity": 1
        }
       },
       "polyline": {
        "shapeOptions": {
         "color": "#6bc2e5",
         "opacity": 1,
         "weight": 8
        }
       },
       "rectangle": {
        "shapeOptions": {
         "color": "#fca45d",
         "fillColor": "#fca45d",
         "fillOpacity": 1
        }
       }
      }
     },
     "d3cad9b915964c96aa55a6fdebd225cb": {
      "model_module": "jupyter-leaflet",
      "model_module_version": "^0.14.0",
      "model_name": "LeafletMapStyleModel",
      "state": {
       "_model_module_version": "^0.14.0",
       "cursor": "move"
      }
     },
     "e8885ce55c464a2c9fe8255d94e6c614": {
      "model_module": "jupyter-leaflet",
      "model_module_version": "^0.14.0",
      "model_name": "LeafletMapStyleModel",
      "state": {
       "_model_module_version": "^0.14.0",
       "cursor": "move"
      }
     },
     "f4d7e355be3a4acd9d04fb4a751c7d7b": {
      "model_module": "jupyter-leaflet",
      "model_module_version": "^0.14.0",
      "model_name": "LeafletMapStyleModel",
      "state": {
       "_model_module_version": "^0.14.0"
      }
     },
     "fe2610ef34a14744b7091bab98c1fdd8": {
      "model_module": "jupyter-leaflet",
      "model_module_version": "^0.14.0",
      "model_name": "LeafletAttributionControlModel",
      "state": {
       "_model_module_version": "^0.14.0",
       "_view_module_version": "^0.14.0",
       "options": [
        "position",
        "prefix"
       ],
       "position": "bottomright",
       "prefix": "ipyleaflet"
      }
     },
     "ff6fe2d0b9074bef9202c1f449b3597a": {
      "model_module": "jupyter-leaflet",
      "model_module_version": "^0.14.0",
      "model_name": "LeafletZoomControlModel",
      "state": {
       "_model_module_version": "^0.14.0",
       "_view_module_version": "^0.14.0",
       "options": [
        "position",
        "zoom_in_text",
        "zoom_in_title",
        "zoom_out_text",
        "zoom_out_title"
       ]
      }
     }
    },
    "version_major": 2,
    "version_minor": 0
   }
  }
 },
 "nbformat": 4,
 "nbformat_minor": 5
}
